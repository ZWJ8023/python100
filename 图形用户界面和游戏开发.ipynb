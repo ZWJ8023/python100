{
 "cells": [
  {
   "cell_type": "code",
   "execution_count": null,
   "metadata": {},
   "outputs": [],
   "source": [
    "基于tkinter模块的GUI(图形用户界面)\n",
    "\n",
    "python默认的GUI开发模块是tkinter（wxPython，pyQt，PyGTK\n",
    "等模块也可以）\n",
    "\n",
    "基本上使用tkinter开开发GUI应用需要以下5个步骤：\n",
    "    1. 导入tkinter模块中我们需要的东西\n",
    "    2.创建一个顶层窗口对象并用它来继承整个GU应用\n",
    "    3.在顶层窗口对象添加GUI组建\n",
    "    4.通过代码将这些GUI组建的功能组件起来\n",
    "    5. 进入主事件循环（main loop）"
   ]
  },
  {
   "cell_type": "code",
   "execution_count": null,
   "metadata": {},
   "outputs": [],
   "source": [
    "当内部作用域想修改外部作用域变量时，就要用global和nonlocal关键字"
   ]
  },
  {
   "cell_type": "code",
   "execution_count": 5,
   "metadata": {},
   "outputs": [
    {
     "name": "stdout",
     "output_type": "stream",
     "text": [
      "1\n",
      "123\n",
      "123\n"
     ]
    }
   ],
   "source": [
    "\"\"\"修改全局变量num\"\"\"\n",
    "num =1\n",
    "def fun1():\n",
    "    global num #需要使用global关键字声明\n",
    "    print(num)\n",
    "    num =123\n",
    "    print(num)\n",
    "    \n",
    "fun1()\n",
    "print(num)"
   ]
  },
  {
   "cell_type": "code",
   "execution_count": 6,
   "metadata": {},
   "outputs": [
    {
     "name": "stdout",
     "output_type": "stream",
     "text": [
      "100\n",
      "100\n"
     ]
    }
   ],
   "source": [
    "\"\"\"如果需要潜逃作用域（enclosing作用域，外层非全局作用域）中的变量\n",
    "则需要nonlocal关键字,即nonlocal声明的变量不是局部变量，也不是全局变量\"\"\"\n",
    "def fun2():\n",
    "    num =10\n",
    "    def  fun():\n",
    "        nonlocal num  #nonlocal关键字声明\n",
    "        \n",
    "        num =100\n",
    "        print(num)\n",
    "    fun()\n",
    "    print(num)\n",
    "    \n",
    "fun2()"
   ]
  },
  {
   "cell_type": "markdown",
   "metadata": {},
   "source": [
    "tkinter组件\n",
    "-------------\n",
    "Button 按钮控件；在程序中显示按钮。\n",
    "\n",
    "Canvas 画布控件；显示图形元素如线条或文本\n",
    "\n",
    "Checkbutton 多选框控件；用于在程序中提供多项选择框\n",
    "\n",
    "Entry 输入控件；用于显示简单的文本内容\n",
    "\n",
    "Frame 框架控件；在屏幕上显示一个矩形区域，多用来作为容器\n",
    "\n",
    "Label 标签控件；可以显示文本和位图\n",
    "\n",
    "Listbox 列表框控件；在Listbox窗口小部件是用来显示一个字符串列表给用户\n",
    "\n",
    "Menubutton 菜单按钮控件，由于显示菜单项。\n",
    "\n",
    "Menu 菜单控件；显示菜单栏,下拉菜单和弹出菜单\n",
    "\n",
    "Message 消息控件；用来显示多行文本，与label比较类似\n",
    "\n",
    "Radiobutton 单选按钮控件；显示一个单选的按钮状态\n",
    "\n",
    "Scale 范围控件；显示一个数值刻度，为输出限定范围的数字区间\n",
    "\n",
    "Scrollbar 滚动条控件，当内容超过可视化区域时使用，如列表框。\n",
    ".\n",
    "Text 文本控件；用于显示多行文本\n",
    "\n",
    "Toplevel 容器控件；用来提供一个单独的对话框，和Frame比较类似\n",
    "\n",
    "Spinbox 输入控件；与Entry类似，但是可以指定输入范围值\n",
    "\n",
    "PanedWindow PanedWindow是一个窗口布局管理的插件，可以包含一个或者多个子控件。\n",
    "\n",
    "LabelFrame labelframe 是一个简单的容器控件。常用与复杂的窗口布局。\n",
    "\n",
    "tkMessageBox 用于显示你应用程序的消息框"
   ]
  },
  {
   "cell_type": "markdown",
   "metadata": {},
   "source": [
    "标准属性\n",
    "----------\n",
    "Dimension 控件大小；\n",
    "Color 控件颜色；\n",
    "Font 控件字体；\n",
    "Anchor 锚点；\n",
    "Relief 控件样式；\n",
    "Bitmap 位图；\n",
    "Cursor 光标；"
   ]
  },
  {
   "cell_type": "markdown",
   "metadata": {},
   "source": [
    "几何管理\n",
    "----------\n",
    "pack() 包装；\n",
    "grid() 网格；\n",
    "place() 位置；"
   ]
  },
  {
   "cell_type": "code",
   "execution_count": 1,
   "metadata": {},
   "outputs": [],
   "source": [
    "#创建一个GUI程序\n",
    "import tkinter\n",
    "top = tkinter.Tk()\n",
    "\n",
    "top.mainloop() #进入消息循环"
   ]
  },
  {
   "cell_type": "code",
   "execution_count": 9,
   "metadata": {},
   "outputs": [],
   "source": [
    "#使用tkinker做一个简单的GUI应用\n",
    "\n",
    "import tkinter\n",
    "import tkinter.messagebox\n",
    "\n",
    "def mian():\n",
    "    flag = True #flag标签\n",
    "    \n",
    "    #修改标签上的文字\n",
    "    def change_wenzi():\n",
    "        nonlocal flag\n",
    "        flag = not flag\n",
    "        color,msg = ('red', '加油！')\\\n",
    "            if flag else ('blue', '不抛弃，不放弃！')\n",
    "        label.config(text = msg,fg=color)\n",
    "        \n",
    "    #确认退出\n",
    "    def out():\n",
    "        if tkinter.messagebox.askokcancel('温馨提示','确定要退出吗？'):\n",
    "            top.quit()\n",
    "\n",
    "    #创建顶层窗口\n",
    "    top = tkinter.Tk()\n",
    "    \n",
    "    #设置窗口大小\n",
    "    top.geometry('240*160')\n",
    "    \n",
    "    #设置窗口标题\n",
    "    top.title(’小游戏‘)\n",
    "    \n",
    "    #创建标签对象并添加到顶层窗口\n",
    "    \n",
    "    \n",
    "    \n",
    "    \n",
    "    \n",
    "    \n",
    "    \n",
    "    \n",
    "    \n",
    "    \n",
    "    \n",
    "    \n",
    "    \n",
    "    \n",
    "    "
   ]
  },
  {
   "cell_type": "code",
   "execution_count": null,
   "metadata": {},
   "outputs": [],
   "source": []
  }
 ],
 "metadata": {
  "kernelspec": {
   "display_name": "Python 3",
   "language": "python",
   "name": "python3"
  },
  "language_info": {
   "codemirror_mode": {
    "name": "ipython",
    "version": 3
   },
   "file_extension": ".py",
   "mimetype": "text/x-python",
   "name": "python",
   "nbconvert_exporter": "python",
   "pygments_lexer": "ipython3",
   "version": "3.7.3"
  }
 },
 "nbformat": 4,
 "nbformat_minor": 2
}
