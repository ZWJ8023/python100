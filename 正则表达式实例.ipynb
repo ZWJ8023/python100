{
 "cells": [
  {
   "cell_type": "code",
   "execution_count": null,
   "metadata": {},
   "outputs": [],
   "source": [
    "\"\"\"正则表达式实例\"\"\"\n",
    "^[A-Za-z]+$  #由26个字母组成的字符串\n",
    "\n",
    "^[A-Za-z0-9]+$ #由26个字母和数字组成的字符串\n",
    "\n",
    "^-?\\d+$  #整数形式的字符串\n",
    "\n",
    "[1-9]\\d{5} #中国境内邮政编码，6位\n",
    "\n",
    "[\\u4e00-\\u9fa5] #匹配中文字符\n",
    "\n",
    "\\d{3}-\\d{8}|\\d{4}-\\d{7}  #电话号码"
   ]
  },
  {
   "cell_type": "markdown",
   "metadata": {},
   "source": [
    "    正则表达式是简介表达一组字符串的表达式，正则表达式可以方便的检查一个字符串是否与某种模式匹配。在正则表达式中，使用最多的就是如下几种函数：\n",
    "\n",
    "re.match() >>> match函数从开头开始匹配，如果不是起始位置匹配成功的话，match函数的匹配结果就为none\n",
    "\n",
    "re.search() >>> 搜索整个字符串，并返回第一个成功的匹配\n",
    "\n",
    "re.findall() >>> 搜索整个字符串，返回一个list（最常用的）\n",
    "\n",
    "re.compile() >>> compile函数用于编译正则表达式，生成一个正则表达式（Pattern）对象\n",
    "\n",
    "re.split() >>> 将一个字符串按照正则表达式匹配的结果进行分割，返回列表类型\n",
    "\n",
    "re.sub() >>> 在一个字符串中替换所有匹配正则表达式的子串，返回替换后的字符串\n"
   ]
  },
  {
   "cell_type": "markdown",
   "metadata": {},
   "source": [
    "# 1.re.match函数\n",
    "macth函数从头开始匹配，如果不是起始位置匹配成功的话，match函数的匹配结果就为none。匹配成功，re.match方法返回一个匹配的对象\n",
    "\n",
    "语法：\n",
    "re.match(pattern,string,flags=0)\n",
    "\n",
    "pattern:需要匹配的正则表达式\n",
    "string:在哪个字符串中就行匹配\n",
    "flags:标志位（默认为0），它可以控制正则表达式的匹配方式\n",
    "\n",
    "常见的flags如下：\n",
    "\n",
    "re.I 忽略匹配时的大小写\n",
    "re.M 多行匹配，影响^和$\n",
    "re.S 默认不匹配换行，使.匹配包括换行在内的所有字符\n",
    "re.U 根据Unicode字符集解析字符。这个标志影响\\w,\\W,\\b,\\B\n"
   ]
  },
  {
   "cell_type": "code",
   "execution_count": 8,
   "metadata": {},
   "outputs": [],
   "source": [
    "import re"
   ]
  },
  {
   "cell_type": "code",
   "execution_count": 23,
   "metadata": {},
   "outputs": [
    {
     "data": {
      "text/plain": [
       "<re.Match object; span=(0, 2), match='11'>"
      ]
     },
     "execution_count": 23,
     "metadata": {},
     "output_type": "execute_result"
    }
   ],
   "source": [
    "\"\"\"match函数匹配成功，re.match方法返回一个匹配的对象，而不是匹配的正则表达式；通过span()可以获取匹配的位置\"\"\"\n",
    "\n",
    "astr='11you are 3344 my apple\\n 11开心果，you\\n66a77'\n",
    "re.match('11',astr)"
   ]
  },
  {
   "cell_type": "code",
   "execution_count": 25,
   "metadata": {},
   "outputs": [
    {
     "data": {
      "text/plain": [
       "(0, 2)"
      ]
     },
     "execution_count": 25,
     "metadata": {},
     "output_type": "execute_result"
    }
   ],
   "source": [
    "re.match('11',astr).span()"
   ]
  },
  {
   "cell_type": "code",
   "execution_count": 4,
   "metadata": {},
   "outputs": [
    {
     "name": "stdout",
     "output_type": "stream",
     "text": [
      "None\n"
     ]
    }
   ],
   "source": [
    "print(re.match('you',astr))\n",
    "#macth函数从头开始匹配，如果不是起始位置匹配成功的话，match函数的匹配结果就为none。"
   ]
  },
  {
   "cell_type": "code",
   "execution_count": 5,
   "metadata": {},
   "outputs": [
    {
     "data": {
      "text/plain": [
       "'11y'"
      ]
     },
     "execution_count": 5,
     "metadata": {},
     "output_type": "execute_result"
    }
   ],
   "source": [
    "\"\"\"如果需要将匹配的正则表达式显示出来，则需要使用group(num)或groups()匹配对象函数来获取匹配的表达式。\"\"\"\n",
    "\n",
    "\"\"\"例如：re.match(r'\\d(.)(\\d)',astr),在需要匹配的字符串中，可以有多个括号，每个括号为一组\"\"\"\n",
    "#group(0)匹配的是整个表达式的字符串，即\\d(.)(\\d);\n",
    "#group(1)表示第一个括号里的内容，即（.）;依此类推。\n",
    "#group(num=2,3,4...)表示对应括号的内容；\n",
    "#groups()返回一个包含所有括号里面的字符串的内容，返回的结果为一个元组\n",
    "\n",
    "\n",
    "\"\"\"\n",
    "解析：\n",
    "    '\\d(\\d)(.)'表示从头开始匹配三组对象，\n",
    "    第一、二个：'\\d'则表示匹配数字：[0-9]\n",
    "    第三个：(.)表示匹配除了换行符以外的任何字符\n",
    "    re.S 默认不匹配换行，使.匹配包括换行在内的所有字符\n",
    "    group(0)将满足表达式'\\d(\\d)(.)'的字符串匹配出来\n",
    "    \n",
    "\"\"\"\n",
    "astr='11you are 3344 my apple\\n 11开心果，you\\n66a77'\n",
    "re.match('\\d(\\d)(.)',astr,re.S).group(0)\n"
   ]
  },
  {
   "cell_type": "code",
   "execution_count": 20,
   "metadata": {},
   "outputs": [
    {
     "name": "stdout",
     "output_type": "stream",
     "text": [
      "1\n",
      "y\n"
     ]
    }
   ],
   "source": [
    "\"\"\"\n",
    "解析：\n",
    "    group(1)表示第一个括号里的内容,即（\\d）\n",
    "    group(2)表示第二个括号里的内容,即（.）\n",
    "\n",
    "\"\"\"\n",
    "print(re.match('\\d(\\d)(.)',astr,re.S).group(1))\n",
    "print(re.match('\\d(\\d)(.)',astr,re.S).group(2))"
   ]
  },
  {
   "cell_type": "code",
   "execution_count": 21,
   "metadata": {},
   "outputs": [
    {
     "data": {
      "text/plain": [
       "('1', 'y')"
      ]
     },
     "execution_count": 21,
     "metadata": {},
     "output_type": "execute_result"
    }
   ],
   "source": [
    "\"\"\"\n",
    "解析：\n",
    "   groups()返回一个包含所有括号里面的字符串的内容，\n",
    "   即返回(\\d)(.)\n",
    "   返回的结果为一个元组形式\n",
    "\n",
    "\"\"\"\n",
    "re.match('\\d(\\d)(.)',astr,re.S).groups()"
   ]
  },
  {
   "cell_type": "markdown",
   "metadata": {},
   "source": [
    "# 2.re.search函数\n",
    "搜索整个字符串，并返回第一个成功的匹配\n",
    "\n",
    "语法：\n",
    "re.search(pattern,string,flags=0)\n",
    "\n",
    "pattern:需要匹配的正则表达式\n",
    "string:在哪个字符串中就行匹配\n",
    "flags:标志位（默认为0），它可以控制正则表达式的匹配方式\n",
    "\n",
    "常见的flags如下：\n",
    "re.I 忽略匹配时的大小写\n",
    "re.M 多行匹配，影响^和$\n",
    "re.S 默认不匹配换行，使.匹配包括换行在内的所有字符\n",
    "re.U 根据Unicode字符集解析字符。这个标志影响\\w,\\W,\\b,\\B\n"
   ]
  },
  {
   "cell_type": "code",
   "execution_count": 22,
   "metadata": {},
   "outputs": [
    {
     "data": {
      "text/plain": [
       "<re.Match object; span=(0, 2), match='11'>"
      ]
     },
     "execution_count": 22,
     "metadata": {},
     "output_type": "execute_result"
    }
   ],
   "source": [
    "#search函数匹配的不同点是，match函数必须从头开始匹配，而search不需要，它可以匹配正则表达式中的所有字符串，但如果不是字符串中的内容，才会返回为none。\n",
    "astr='11you are 3344 my apple\\n 11开心果，you\\n66a77'\n",
    "re.search('11',astr)"
   ]
  },
  {
   "cell_type": "code",
   "execution_count": 26,
   "metadata": {},
   "outputs": [
    {
     "data": {
      "text/plain": [
       "<re.Match object; span=(2, 5), match='you'>"
      ]
     },
     "execution_count": 26,
     "metadata": {},
     "output_type": "execute_result"
    }
   ],
   "source": [
    "re.search('you',astr)"
   ]
  },
  {
   "cell_type": "code",
   "execution_count": 27,
   "metadata": {},
   "outputs": [
    {
     "data": {
      "text/plain": [
       "(0, 2)"
      ]
     },
     "execution_count": 27,
     "metadata": {},
     "output_type": "execute_result"
    }
   ],
   "source": [
    "re.search('11',astr).span()"
   ]
  },
  {
   "cell_type": "code",
   "execution_count": 28,
   "metadata": {},
   "outputs": [
    {
     "name": "stdout",
     "output_type": "stream",
     "text": [
      "None\n"
     ]
    }
   ],
   "source": [
    "print(re.search('22',astr))"
   ]
  },
  {
   "cell_type": "code",
   "execution_count": 29,
   "metadata": {},
   "outputs": [
    {
     "name": "stdout",
     "output_type": "stream",
     "text": [
      "11y\n",
      "1\n",
      "y\n",
      "('1', 'y')\n"
     ]
    }
   ],
   "source": [
    "astr='11you are 3344 my apple\\n 11开心果，you\\n66a77'\n",
    "print(re.match('\\d(\\d)(.)',astr,re.S).group(0))\n",
    "print(re.match('\\d(\\d)(.)',astr,re.S).group(1))\n",
    "print(re.match('\\d(\\d)(.)',astr,re.S).group(2))\n",
    "print(re.match('\\d(\\d)(.)',astr,re.S).groups())"
   ]
  },
  {
   "cell_type": "markdown",
   "metadata": {},
   "source": [
    "# re.findall函数\n",
    "搜索整个字符串，返回一个list\n",
    "\n",
    "语法：re.findall(string)"
   ]
  },
  {
   "cell_type": "code",
   "execution_count": 31,
   "metadata": {},
   "outputs": [
    {
     "data": {
      "text/plain": [
       "['11', '33', '44', '11', '66', '77']"
      ]
     },
     "execution_count": 31,
     "metadata": {},
     "output_type": "execute_result"
    }
   ],
   "source": [
    "astr='11you are 3344 my apple\\n 11开心果，you\\n66a77'\n",
    "re.findall('\\d\\d',astr)\n",
    "#列表形式显示所有的两个数字"
   ]
  },
  {
   "cell_type": "code",
   "execution_count": 32,
   "metadata": {},
   "outputs": [
    {
     "data": {
      "text/plain": [
       "['11', '3344', '11', '66', '77']"
      ]
     },
     "execution_count": 32,
     "metadata": {},
     "output_type": "execute_result"
    }
   ],
   "source": [
    "re.findall('\\d{2,4}',astr)\n",
    "#别表形式显示所有的2--4个数字，默认贪婪匹配"
   ]
  },
  {
   "cell_type": "code",
   "execution_count": null,
   "metadata": {},
   "outputs": [],
   "source": []
  },
  {
   "cell_type": "code",
   "execution_count": null,
   "metadata": {},
   "outputs": [],
   "source": []
  }
 ],
 "metadata": {
  "kernelspec": {
   "display_name": "Python 3",
   "language": "python",
   "name": "python3"
  },
  "language_info": {
   "codemirror_mode": {
    "name": "ipython",
    "version": 3
   },
   "file_extension": ".py",
   "mimetype": "text/x-python",
   "name": "python",
   "nbconvert_exporter": "python",
   "pygments_lexer": "ipython3",
   "version": "3.7.3"
  }
 },
 "nbformat": 4,
 "nbformat_minor": 2
}
