{
 "cells": [
  {
   "cell_type": "markdown",
   "metadata": {},
   "source": [
    "python对正则表达式的支持\n",
    "----\n",
    "python提供了re模块来支持正则表达式相关操作"
   ]
  },
  {
   "cell_type": "code",
   "execution_count": 2,
   "metadata": {},
   "outputs": [
    {
     "name": "stdout",
     "output_type": "stream",
     "text": [
      "请输入用户名：zhangwenjie\n",
      "请输入QQ号：842715628\n",
      "你输入的信息是有效的\n"
     ]
    }
   ],
   "source": [
    "\"\"\"\n",
    "例1:验证输入用户名和QQ号是否有效并给出对应的提示信息\n",
    "\n",
    "要求：用户名必须由字母组成、数字或下划线构成且长度在6～20个字符之间，QQ号是5～12的数字且首位不能为0\n",
    "\n",
    "\"\"\"\n",
    "import re\n",
    "\n",
    "def main():\n",
    "    username = input('请输入用户名：')\n",
    "    qq = input('请输入QQ号：')\n",
    "    #match函数的第一个参数是正则表达式字符串或正则表达式对象\n",
    "    #第二个参数是要跟正则表达式做匹配的字符串对象\n",
    "    username_1 = re.match(r'^[0-9a-zA-Z]{6,20}$',username)\n",
    "    if not username_1:\n",
    "        print('请输入有效的用户名！')\n",
    "    qq_1= re.match(r'^[1-9]\\d{4,11}$',qq)\n",
    "    if not qq_1:\n",
    "        print('请输入有效的QQ号')\n",
    "    if username_1 and qq_1:\n",
    "        print('你输入的信息是有效的')\n",
    "        \n",
    "main()\n",
    "#书写正则表达式时使用了“原始字符串”的写法（在字符串前面加上r)\n",
    "#“原始字符”就是转义字符的意思，正则表达式中有很多元字符和需要转义的地方\n",
    "#如果不使用原始字符，就需要写成\\\\，例如表示数字的\\d则需要写成\\\\d,这样不方便，且阅读吃力"
   ]
  },
  {
   "cell_type": "code",
   "execution_count": 5,
   "metadata": {},
   "outputs": [
    {
     "name": "stdout",
     "output_type": "stream",
     "text": [
      "你丫是*吗？牛*.哦*.\n"
     ]
    }
   ],
   "source": [
    "\"\"\"\n",
    "例2：替换字符串中的内容\n",
    "\n",
    "\"\"\"\n",
    "import re\n",
    "\n",
    "def main():\n",
    "    nei_rong='你丫是傻叉吗？牛逼.哦shit.'\n",
    "    ti_huan=re.sub('[操艹]|傻[比逼叉屌缺]|fuck|shit|逼',\n",
    "                   '*',nei_rong,flags=re.IGNORECASE)\n",
    "    print(ti_huan)\n",
    "main()\n",
    "    \n",
    "#re模块的正则表达式相关函数都有一个flags参数，\n",
    "#它代表了正则表达式的匹配标记，\n",
    "#可以通过该标记来制定匹配时是否忽略大小写、是否进行多行匹配、是否显示调试信息等\n",
    "#如果需要为flags参数指定多个值，可以使用按位或运算符进行叠加，如flags=re.I|re.M\n",
    "    "
   ]
  },
  {
   "cell_type": "code",
   "execution_count": 6,
   "metadata": {},
   "outputs": [
    {
     "name": "stdout",
     "output_type": "stream",
     "text": [
      "['床前明月光', '疑是地上霜', '举头望明月', '低头思故乡']\n"
     ]
    }
   ],
   "source": [
    "\"\"\"\n",
    "例3:拆分长字符串\n",
    "\"\"\"\n",
    "import re\n",
    "\n",
    "\n",
    "def main():\n",
    "    poem='床前明月光，疑是地上霜。举头望明月，低头思故乡。'\n",
    "    chaifen_poem=re.split(r'[，。]',poem)\n",
    "    while '' in chaifen_poem:\n",
    "        chaifen_poem.remove('')\n",
    "    print(chaifen_poem)\n",
    "main()\n",
    "\n",
    "\n",
    "\n"
   ]
  },
  {
   "cell_type": "code",
   "execution_count": null,
   "metadata": {},
   "outputs": [],
   "source": []
  }
 ],
 "metadata": {
  "kernelspec": {
   "display_name": "Python 3",
   "language": "python",
   "name": "python3"
  },
  "language_info": {
   "codemirror_mode": {
    "name": "ipython",
    "version": 3
   },
   "file_extension": ".py",
   "mimetype": "text/x-python",
   "name": "python",
   "nbconvert_exporter": "python",
   "pygments_lexer": "ipython3",
   "version": "3.7.3"
  }
 },
 "nbformat": 4,
 "nbformat_minor": 2
}
