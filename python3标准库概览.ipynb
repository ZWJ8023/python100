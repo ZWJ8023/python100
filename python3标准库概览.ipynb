{
 "cells": [
  {
   "cell_type": "markdown",
   "metadata": {},
   "source": [
    "操作系统接口\n",
    "-----\n",
    "os模块提供了不少于操作系统相关联的函数"
   ]
  },
  {
   "cell_type": "code",
   "execution_count": 6,
   "metadata": {},
   "outputs": [
    {
     "name": "stdout",
     "output_type": "stream",
     "text": [
      "/Users/zhangwenjie/Desktop/用所选项目新建的文件夹/python 笔记\n",
      "256\n"
     ]
    }
   ],
   "source": [
    "import os\n",
    "print(os.getcwd() )#返回当前工作的目录\n",
    "#os.chdir() #修改当前的工作目录\n",
    "print(os.system('mkdir today'))  #执行系统命令mkdir\n",
    "\n",
    "#建议使用‘import os’而非‘from os import’，这样可以保证随时操作系统不同而有所变化的os.open()不会覆盖内置函数open()"
   ]
  },
  {
   "cell_type": "code",
   "execution_count": null,
   "metadata": {},
   "outputs": [],
   "source": [
    "#在使用os这样的大型模块时内置的dir()和help()函数非常有用\n",
    "\n",
    "import os\n",
    "dir(os)\n",
    "help(os)"
   ]
  },
  {
   "cell_type": "code",
   "execution_count": null,
   "metadata": {},
   "outputs": [],
   "source": [
    "#针对日常的文件和目录管理任务,:mod:shutil模块提供了一个易于使用的高级接口：\n",
    "import shutil\n",
    "1.shutil.copyfileobj()#将一个文件拷贝到另一个文件中\n",
    "2.shutil.copyfile()  #拷贝文件 \n",
    "3.shutil.copymode() #仅拷贝权限，内容，组用户均不变\n",
    "4.shutil.copystat() #仅拷贝状态的信息，包括：mode bits，atime，mtime，flags\n",
    "5.shutil.copy() #拷贝文件和权限\n",
    "6.shutil.copy2() #拷贝文件和状态信息\n",
    "7.shutil.move()#递归的去移动文件，它类似于mv命令，其实就是重命名\n",
    "8.shutil.make_archive(base_name,format,...) #创建压缩包并返回文件路径，例如：zip、tar\n",
    "#base_name:压缩包文件名，也可以是压缩包的路径。只是文件名时，则保存至当前目录，否则保存至指定路径\n",
    "#如：www => 保存至当前路径\n",
    "#如：/Users/zhangwenjie/www => 保存至/Users/zhangwenjie/\n",
    "\n",
    "#format: 压缩包种类，‘zip'，；tar'，’bztar‘，’gztar'\n",
    "#root_dir：要压缩的文件夹路径（默认当前目录）\n",
    "#owner：用于，默认当前用户\n",
    "#group：组，默认当前组\n",
    "#looger：用于记录日志，通常是logging.Logger对象"
   ]
  },
  {
   "cell_type": "code",
   "execution_count": null,
   "metadata": {},
   "outputs": [],
   "source": [
    "#shuil对压缩包的处理是通过调用ZipFile和TarFile两个模块来进行的\n",
    "#示例\n",
    "import zipfile\n",
    "\"\"\"压缩\"\"\"\n",
    "z= zipfile.ZipFile('laxi.zip','w')\n",
    "z.write('a.log')\n",
    "z.write('data.data')\n",
    "z.close\n",
    "\n",
    "\"\"\"解压\"\"\"\n",
    "z= zipfile.ZipFile('laxi.zip','r')\n",
    "z.extractall()\n",
    "z.close"
   ]
  },
  {
   "cell_type": "code",
   "execution_count": null,
   "metadata": {},
   "outputs": [],
   "source": [
    "#示例\n",
    "import tarfile\n",
    "\"\"\"压缩\"\"\"\n",
    "tar =tarfile.open('your.tar','w')\n",
    "tar.add('Users/zhangwenjie/PycharmProject/bbs2.log',arcname='bbs2.log')\n",
    "tar.add('Users/zhangwenjie/PycharmProject/cmdb.log',arcname='cmdb.log')\n",
    "tar.close()\n",
    "\n",
    "\"\"\"解压\"\"\"\n",
    "tar =tarfile.open('your.tar','r')\n",
    "tar.extractall() #可设置解压地址\n",
    "tar.close()"
   ]
  },
  {
   "cell_type": "markdown",
   "metadata": {},
   "source": [
    "文件通配符\n",
    "----\n",
    "glob模块提供了一个函数用于从 mull 了通配符搜索中生成文件列表"
   ]
  },
  {
   "cell_type": "code",
   "execution_count": 23,
   "metadata": {},
   "outputs": [
    {
     "data": {
      "text/plain": [
       "[]"
      ]
     },
     "execution_count": 23,
     "metadata": {},
     "output_type": "execute_result"
    }
   ],
   "source": [
    "import glob\n",
    "glob.glob('*.py')"
   ]
  },
  {
   "cell_type": "markdown",
   "metadata": {},
   "source": [
    "命令行参数\n",
    "---\n",
    "通用工具脚本经常调用命令行参数。这些命令行参数以链表形式存储于sys模块的argv变量。"
   ]
  },
  {
   "cell_type": "code",
   "execution_count": 24,
   "metadata": {},
   "outputs": [
    {
     "name": "stdout",
     "output_type": "stream",
     "text": [
      "['/anaconda3/lib/python3.7/site-packages/ipykernel_launcher.py', '-f', '/Users/zhangwenjie/Library/Jupyter/runtime/kernel-1a7fecf9-7926-4ec3-a436-44beec00c2e7.json']\n"
     ]
    }
   ],
   "source": [
    "\"\"\"\n",
    "例如在命令中执行‘python demo.py one two three\" 后可以得到以下输出结果:‘\n",
    "\"\"\"\n",
    "import sys\n",
    "print(sys.argv)"
   ]
  },
  {
   "cell_type": "markdown",
   "metadata": {},
   "source": [
    "错误输出重定向和程序终止\n",
    "----\n",
    "sys还有stdin,stdout和stderr属性，即使在stdout被重定向时，后者也可以用于显示警告和错误信息"
   ]
  },
  {
   "cell_type": "code",
   "execution_count": 25,
   "metadata": {},
   "outputs": [
    {
     "name": "stderr",
     "output_type": "stream",
     "text": [
      "Warning, log file not found starting a new one\n"
     ]
    }
   ],
   "source": [
    "sys.stderr.write('Warning, log file not found starting a new one\\n')"
   ]
  },
  {
   "cell_type": "markdown",
   "metadata": {},
   "source": [
    "字符串正则匹配\n",
    "--\n",
    "re模块为高级字符串处理提供了正则表达式工具。对于复杂的匹配和处理，正则表达式提供了简洁、优化的解决方案\n",
    " "
   ]
  },
  {
   "cell_type": "code",
   "execution_count": 3,
   "metadata": {},
   "outputs": [
    {
     "data": {
      "text/plain": [
       "'cat in the hat'"
      ]
     },
     "execution_count": 3,
     "metadata": {},
     "output_type": "execute_result"
    }
   ],
   "source": [
    "import re\n",
    "\n",
    "re.sub(r'(\\b[a-z]+) \\1',r'\\1','cat in the the hat')\n",
    "#正则中的替换"
   ]
  },
  {
   "cell_type": "code",
   "execution_count": 4,
   "metadata": {},
   "outputs": [
    {
     "data": {
      "text/plain": [
       "['foot', 'fell', 'fastest']"
      ]
     },
     "execution_count": 4,
     "metadata": {},
     "output_type": "execute_result"
    }
   ],
   "source": [
    "import re\n",
    "re.findall(r'\\bf[a-z]*','which foot or hand fell fastest')\n",
    "#通过正则表达式将开头是f的对象取出来"
   ]
  },
  {
   "cell_type": "markdown",
   "metadata": {},
   "source": [
    "数学\n",
    "--\n",
    "math模块为浮点运算提供了对底层c函数库的访问："
   ]
  },
  {
   "cell_type": "code",
   "execution_count": 6,
   "metadata": {},
   "outputs": [
    {
     "name": "stdout",
     "output_type": "stream",
     "text": [
      "0.7071067811865476\n",
      "10.0\n"
     ]
    }
   ],
   "source": [
    "import math\n",
    "print(math.cos(math.pi/4))\n",
    "print(math.log(1024,2))"
   ]
  },
  {
   "cell_type": "code",
   "execution_count": 31,
   "metadata": {},
   "outputs": [
    {
     "name": "stdout",
     "output_type": "stream",
     "text": [
      "1. apple\n",
      "2. [81, 14, 91, 47, 35, 53, 67, 30, 57, 33]\n",
      "3. 0.13988449641228706\n",
      "4. 6.718222875000587\n",
      "5. 3.7585610244289542\n"
     ]
    }
   ],
   "source": [
    "#random提供了生成随机数的工具\n",
    "import random\n",
    "\n",
    "\n",
    "print('1.',random.choice(['apple','pear','banana']))\n",
    "#random.choice(sequence)从序列中获取一个随即元素，sequence表示一个有序类型\n",
    "#list、tuple，字符串都属于sequence\n",
    "\n",
    "print('2.',random.sample(range(100),10))\n",
    "#从指定序列中随机获取指定长度的片段并随机排列,sample函数不会修改原有序列\n",
    "\n",
    "print('3.',random.random())\n",
    "#生成一个0-1的随机数\n",
    "\n",
    "print('4.',random.uniform(1,10))\n",
    "print('5.',random.uniform(10,1))\n",
    "#用于生成一个指定范围内的随机浮点数，两个参数其中一个是上限，一个是下限。\n",
    "#如果a>b,则生成的随机数n:a<=n<=b\n",
    "#如果a<b,则b<=n<=a\n",
    "\n",
    "print('6.',random.randrange(10,30,2))\n",
    "#从指定范围内，指定基数递增的集合中获取一个随机数\n",
    "#相当于从[10,12,14...28]序列中获取一个随机数\n",
    "\n"
   ]
  },
  {
   "cell_type": "code",
   "execution_count": 32,
   "metadata": {},
   "outputs": [
    {
     "name": "stdout",
     "output_type": "stream",
     "text": [
      "7. ['A', 'B', 'E', 'C', 'D']\n"
     ]
    }
   ],
   "source": [
    "list_1=['A','B','C','D','E']\n",
    "random.shuffle(list_1)\n",
    "print('7.',list_1)\n",
    "\n",
    "#用于将一个列表中的元素打乱，即将列表内的元素随机排列\n"
   ]
  },
  {
   "cell_type": "markdown",
   "metadata": {},
   "source": [
    "日期和时间\n",
    "--\n",
    "datetime模块为日期和时间处理同时提供了简单和复杂的方法\n",
    "支持日期和时间算法的同时，实现的重点放在更有效的处理和格式化输出\n",
    "该模块还支持时区处理"
   ]
  },
  {
   "cell_type": "code",
   "execution_count": 34,
   "metadata": {},
   "outputs": [
    {
     "data": {
      "text/plain": [
       "datetime.date(2019, 7, 16)"
      ]
     },
     "execution_count": 34,
     "metadata": {},
     "output_type": "execute_result"
    }
   ],
   "source": [
    "from datetime import date\n",
    "\n",
    "now = date.today()\n",
    "now"
   ]
  },
  {
   "cell_type": "code",
   "execution_count": 36,
   "metadata": {},
   "outputs": [
    {
     "data": {
      "text/plain": [
       "'07-16-19. 16 Jul 2019 is a Tuesday on the 16 day of July.'"
      ]
     },
     "execution_count": 36,
     "metadata": {},
     "output_type": "execute_result"
    }
   ],
   "source": [
    "now.strftime('%m-%d-%y. %d %b %Y is a %A on the %d day of %B.')"
   ]
  },
  {
   "cell_type": "code",
   "execution_count": 37,
   "metadata": {},
   "outputs": [
    {
     "data": {
      "text/plain": [
       "8184"
      ]
     },
     "execution_count": 37,
     "metadata": {},
     "output_type": "execute_result"
    }
   ],
   "source": [
    "birthday= date(1997,2,17)\n",
    "age=now-birthday\n",
    "age.days"
   ]
  },
  {
   "cell_type": "code",
   "execution_count": null,
   "metadata": {},
   "outputs": [],
   "source": []
  }
 ],
 "metadata": {
  "kernelspec": {
   "display_name": "Python 3",
   "language": "python",
   "name": "python3"
  },
  "language_info": {
   "codemirror_mode": {
    "name": "ipython",
    "version": 3
   },
   "file_extension": ".py",
   "mimetype": "text/x-python",
   "name": "python",
   "nbconvert_exporter": "python",
   "pygments_lexer": "ipython3",
   "version": "3.7.3"
  }
 },
 "nbformat": 4,
 "nbformat_minor": 2
}
