{
 "cells": [
  {
   "cell_type": "code",
   "execution_count": 3,
   "metadata": {
    "collapsed": true
   },
   "outputs": [
    {
     "name": "stdout",
     "output_type": "stream",
     "text": [
      "1 2 3\n",
      "1 2 4\n",
      "1 3 2\n",
      "1 3 4\n",
      "1 4 2\n",
      "1 4 3\n",
      "2 1 3\n",
      "2 1 4\n",
      "2 3 1\n",
      "2 3 4\n",
      "2 4 1\n",
      "2 4 3\n",
      "3 1 2\n",
      "3 1 4\n",
      "3 2 1\n",
      "3 2 4\n",
      "3 4 1\n",
      "3 4 2\n",
      "4 1 2\n",
      "4 1 3\n",
      "4 2 1\n",
      "4 2 3\n",
      "4 3 1\n",
      "4 3 2\n"
     ]
    }
   ],
   "source": [
    "\"\"\"\n",
    "练习1:\n",
    "题目：有1，2，3，4个数字，能组成多少个互不相干同且无重复数字的三位数？都是多少\n",
    "------------------------------------------------------------\n",
    "程序分析：\n",
    "可填在百位、十位、个位的数字都是1，2，3，4.组成所有的排列后在去掉不满足条件的排列\n",
    "\"\"\"\n",
    "\n",
    "for i in range(1,5):\n",
    "    for j in range(1,5):\n",
    "        for k in range(1,5):\n",
    "            if (i!=k) and (i!=j) and (j!=k):\n",
    "                print(i,j,k)"
   ]
  },
  {
   "cell_type": "code",
   "execution_count": 6,
   "metadata": {},
   "outputs": [
    {
     "name": "stdout",
     "output_type": "stream",
     "text": [
      "净利润：120000\n",
      "1500.0\n",
      "10000.0\n",
      "11500.0\n"
     ]
    }
   ],
   "source": [
    "\"\"\"\n",
    "练习2:\n",
    "题目：企业发放的奖金根据利润提成。利润<=10万元时，奖金可提10%；10<利润<20时，低于10万元的部分按10%提成，高于10万元的部分，\n",
    "    可提成7.5%；20-40万元，可提成5%；40-60万元之间，可提成3%；60-100万元，可提成1.5%；高于100万时，按1%提成。\n",
    "    输入当月利润，求应发放的奖金总数？\n",
    "    \n",
    "\"\"\"\n",
    "i= int(input('净利润：'))\n",
    "li_run=[1000000,600000,400000,200000,100000,0]\n",
    "li_lv=[0.01,0.015,0.03,0.05,0.075,0.1]\n",
    "j=0\n",
    "for k in range(0,6):\n",
    "    if i > li_run[k]:\n",
    "        j+=(i-li_run[k])*li_lv[k]\n",
    "        print((i-li_run[k])*li_lv[k])\n",
    "        i = li_run[k]\n",
    "print(j)"
   ]
  },
  {
   "cell_type": "code",
   "execution_count": null,
   "metadata": {},
   "outputs": [],
   "source": []
  }
 ],
 "metadata": {
  "kernelspec": {
   "display_name": "Python 3",
   "language": "python",
   "name": "python3"
  },
  "language_info": {
   "codemirror_mode": {
    "name": "ipython",
    "version": 3
   },
   "file_extension": ".py",
   "mimetype": "text/x-python",
   "name": "python",
   "nbconvert_exporter": "python",
   "pygments_lexer": "ipython3",
   "version": "3.7.3"
  }
 },
 "nbformat": 4,
 "nbformat_minor": 2
}
