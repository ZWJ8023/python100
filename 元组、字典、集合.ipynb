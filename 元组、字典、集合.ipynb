{
 "cells": [
  {
   "cell_type": "markdown",
   "metadata": {},
   "source": [
    "# 元组(tuple) \n",
    "python的元组与列表类似，不同之处在于元组的元素不能被修改(代码更安全)，和列表一样，可以保存多条数据"
   ]
  },
  {
   "cell_type": "code",
   "execution_count": 10,
   "metadata": {},
   "outputs": [
    {
     "name": "stdout",
     "output_type": "stream",
     "text": [
      "('张文洁', True, '锡林浩特')\n",
      "()\n",
      "1\n",
      "(1,)\n",
      "张文洁\n",
      "True\n"
     ]
    }
   ],
   "source": [
    "#定义一个tuple时，tuple的元素就必须被确定下来\n",
    "t= ('张文洁',True,'锡林浩特')\n",
    "print(t)\n",
    "\n",
    "#定义一个空的tuple：\n",
    "t1=()\n",
    "print(t1)  \n",
    "\n",
    "#但是，要定义一个只有1个元素的tuple，如果定义成：\n",
    "t2=(1)\n",
    "print(t2)#>>>打印出来的是1，但定义的不是tuple，是1这个数。\n",
    "        #因为括号()既可以表示tuple，又可以表示数学公式中的小括号，这样就产生了歧义，\n",
    "        #因此，这种情况下，按小括号进行计算，计算结果自然是1.\n",
    "\n",
    "#所以，定义只有1个元素的tuple时，括号中必须加一个逗号，来消除歧义：\n",
    "t3=(1,)\n",
    "print(t3)  #>>>(1,)python在显示只有1个元素的tuple时，也会加一个逗号\n",
    "\n",
    "\n",
    "\n",
    "#获取元组中的元素,与列表一样\n",
    "print(t[0])\n",
    "print(t[1])"
   ]
  },
  {
   "cell_type": "code",
   "execution_count": 11,
   "metadata": {},
   "outputs": [
    {
     "data": {
      "text/plain": [
       "('a', 'b', ['x', 'y'])"
      ]
     },
     "execution_count": 11,
     "metadata": {},
     "output_type": "execute_result"
    }
   ],
   "source": [
    "#可变的tuple\n",
    "t=('a','b',['c','d'])\n",
    "t[2][0] = 'x'\n",
    "t[2][1] = 'y'\n",
    "t\n",
    "#这个tuple定义的时候有三个元素，分别是'a','b',和一个list。\n",
    "#t[2][0]表示取元组中第二个元素中的第0位元素，即这个元素在list中，\n",
    "#所以tuple中的元素却改变了，但变得不是tuple的元素，而是list中的元素\n",
    "#tuple所谓的不变是指，tuple的每个元素，指向永远不变，即指向'a',就不能指向‘b'"
   ]
  },
  {
   "cell_type": "code",
   "execution_count": 15,
   "metadata": {},
   "outputs": [
    {
     "name": "stdout",
     "output_type": "stream",
     "text": [
      "['张文浩', True, '佳木斯']\n",
      "('张文浩', True, '佳木斯')\n",
      "张文浩\n",
      "True\n",
      "佳木斯\n"
     ]
    }
   ],
   "source": [
    "#将元组转换成列表\n",
    "t=('张文浩',True,'佳木斯')\n",
    "t1=list(t)\n",
    "print(t1)\n",
    "\n",
    "#将列表转换成元组\n",
    "t2=tuple(t1)\n",
    "print(t2)\n",
    "\n",
    "#遍历元组中的值\n",
    "for i in t2:\n",
    "    print(i)"
   ]
  },
  {
   "cell_type": "markdown",
   "metadata": {},
   "source": [
    "# 字典(dict)\n",
    "python内置了字典，使用键-值（key-value）储存，具有极快的查找速度"
   ]
  },
  {
   "cell_type": "code",
   "execution_count": 2,
   "metadata": {},
   "outputs": [
    {
     "data": {
      "text/plain": [
       "75"
      ]
     },
     "execution_count": 2,
     "metadata": {},
     "output_type": "execute_result"
    }
   ],
   "source": [
    "#创建一个简单的字典\n",
    "d = {'zwj':75,'huwang':95,'zwh':80}\n",
    "d['zwj']"
   ]
  },
  {
   "cell_type": "code",
   "execution_count": 4,
   "metadata": {},
   "outputs": [
    {
     "name": "stdout",
     "output_type": "stream",
     "text": [
      "{'zwj': 75, 'huwang': 95, 'zwh': 80, '小红': 70}\n",
      "70\n",
      "{'zwj': 75, 'huwang': 95, 'zwh': 80, '小红': 70, '阿姨': 60}\n"
     ]
    }
   ],
   "source": [
    "#把数据放入dict的方法，除了初始化指定外，还可以通过key放入\n",
    "d['小红']=70\n",
    "print(d)\n",
    "print(d['小红'])\n",
    "#一个key只能对应一个value，所以，多次对一个key放入value，后面的值就会把前面的值冲掉\n",
    "\n",
    "d.update(阿姨=60)#用于跟新字典中的键-值，可以修改已存在的键对应的值，也可以添加新的键-值\n",
    "print(d)"
   ]
  },
  {
   "cell_type": "code",
   "execution_count": 32,
   "metadata": {},
   "outputs": [
    {
     "name": "stdout",
     "output_type": "stream",
     "text": [
      "False\n",
      "None\n",
      "-1\n"
     ]
    }
   ],
   "source": [
    "#如果key不存在，dict就会报错\n",
    "#避免key不存在的错误，1.通过in判断key是否存在\n",
    "#2.通过dict提供的get()方法，如果key不存在，可以返回None,或者自己指定的value\n",
    "print('haha' in d)\n",
    "print(d.get('haha'))\n",
    "print(d.get('haha',-1))"
   ]
  },
  {
   "cell_type": "code",
   "execution_count": 34,
   "metadata": {},
   "outputs": [
    {
     "data": {
      "text/plain": [
       "{'zwj': 75, 'huwang': 95, 'zwh': 80}"
      ]
     },
     "execution_count": 34,
     "metadata": {},
     "output_type": "execute_result"
    }
   ],
   "source": [
    "#要删除一个key，用pop(key)方法，对应的value也会从dict中删除\n",
    "d.pop('小红')\n",
    "d\n",
    "#清空字典 >>> d.clear()"
   ]
  },
  {
   "cell_type": "code",
   "execution_count": 5,
   "metadata": {},
   "outputs": [
    {
     "name": "stdout",
     "output_type": "stream",
     "text": [
      "True False\n"
     ]
    }
   ],
   "source": [
    "#key in dict 如果键在字典dict里返回true，否则返回false\n",
    "dict1 ={1:'a',2:[1,2]}\n",
    "print(1 in dict1,3 in dict1)"
   ]
  },
  {
   "cell_type": "code",
   "execution_count": 15,
   "metadata": {},
   "outputs": [
    {
     "name": "stdout",
     "output_type": "stream",
     "text": [
      "1 : a\n",
      "2 : [1, 2]\n",
      "{1: 'a', 2: [1, 2]}\n"
     ]
    }
   ],
   "source": [
    "#dict.items()以列表形式返回可遍历的（键，值）元组数组\n",
    "dict1 ={1:'a',2:[1,2]}\n",
    "dict1.items() #>>>dict_items([(1, 'a'), (2, [1, 2])])\n",
    "\n",
    "#遍历字典：\n",
    "for i,j in dict1.items():\n",
    "    print(i,':',j)\n",
    "\n",
    "#>>> 1 : a\n",
    "#    2 : [1, 2]\n",
    "\n",
    "#赋值字典\n",
    "dict2 = {}\n",
    "for i,j in dict1.items():\n",
    "    dict2[i] = j\n",
    "print(dict2)"
   ]
  },
  {
   "cell_type": "code",
   "execution_count": 38,
   "metadata": {},
   "outputs": [
    {
     "ename": "TypeError",
     "evalue": "unhashable type: 'list'",
     "output_type": "error",
     "traceback": [
      "\u001b[0;31m---------------------------------------------------------------------------\u001b[0m",
      "\u001b[0;31mTypeError\u001b[0m                                 Traceback (most recent call last)",
      "\u001b[0;32m<ipython-input-38-5ac5a0b10794>\u001b[0m in \u001b[0;36m<module>\u001b[0;34m\u001b[0m\n\u001b[1;32m     18\u001b[0m \"\"\"\n\u001b[1;32m     19\u001b[0m \u001b[0mkey\u001b[0m\u001b[0;34m=\u001b[0m\u001b[0;34m[\u001b[0m\u001b[0;36m1\u001b[0m\u001b[0;34m,\u001b[0m\u001b[0;36m2\u001b[0m\u001b[0;34m,\u001b[0m\u001b[0;36m3\u001b[0m\u001b[0;34m]\u001b[0m\u001b[0;34m\u001b[0m\u001b[0;34m\u001b[0m\u001b[0m\n\u001b[0;32m---> 20\u001b[0;31m \u001b[0md\u001b[0m\u001b[0;34m[\u001b[0m\u001b[0mkey\u001b[0m\u001b[0;34m]\u001b[0m\u001b[0;34m=\u001b[0m\u001b[0;34m'a list'\u001b[0m\u001b[0;34m\u001b[0m\u001b[0;34m\u001b[0m\u001b[0m\n\u001b[0m",
      "\u001b[0;31mTypeError\u001b[0m: unhashable type: 'list'"
     ]
    }
   ],
   "source": [
    "\"\"\"\n",
    "字典和列表的比较\n",
    "--------------\n",
    "    dict：1.查找和插入的速度极快，不会随着key的增加而变慢\n",
    "         2.需要占用大量内存，内存浪费多\n",
    "         \n",
    "    list：1.查找和插入的时间随着元素的增加而增加\n",
    "          2.占用空间小，浪费内存很少\n",
    "    -------------------------------------------\n",
    "    注：\n",
    "        dict的key必须是不可变对象\n",
    "        因为dict根据key来计算value的存储位置，如果每次计算相同的key得出的结果不同，那么dict内部就已经混乱了。\n",
    "        这个通过key计算位置的算法称为哈希算法（Hash)\n",
    "        ------------------------------\n",
    "        要保证hash的正确，作为key的对象就不能变，在python中，字符串、整数都是不可变得，可以作为key，\n",
    "        而list是可变的，不能作为key\n",
    "\n",
    "\"\"\"\n",
    "key=[1,2,3]\n",
    "d[key]='a list'"
   ]
  },
  {
   "cell_type": "code",
   "execution_count": null,
   "metadata": {},
   "outputs": [],
   "source": []
  }
 ],
 "metadata": {
  "kernelspec": {
   "display_name": "Python 3",
   "language": "python",
   "name": "python3"
  },
  "language_info": {
   "codemirror_mode": {
    "name": "ipython",
    "version": 3
   },
   "file_extension": ".py",
   "mimetype": "text/x-python",
   "name": "python",
   "nbconvert_exporter": "python",
   "pygments_lexer": "ipython3",
   "version": "3.7.3"
  }
 },
 "nbformat": 4,
 "nbformat_minor": 2
}
