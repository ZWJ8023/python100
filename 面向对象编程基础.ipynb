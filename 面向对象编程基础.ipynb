{
 "cells": [
  {
   "cell_type": "markdown",
   "metadata": {},
   "source": [
    "面向对象编程:（三大要素：封装、继承、多态）\n",
    "把一组数据结构和处理它们的方法组成对象(object)，把相同行为的对象归纳为类(class)，通过类的封装隐藏内部细节，通过继承实现类的特化和泛化，通过多态实现基于对象类型的动态分派"
   ]
  },
  {
   "cell_type": "code",
   "execution_count": 3,
   "metadata": {},
   "outputs": [
    {
     "data": {
      "text/plain": [
       "22"
      ]
     },
     "execution_count": 3,
     "metadata": {},
     "output_type": "execute_result"
    }
   ],
   "source": [
    "\"\"\"\n",
    "1.定义类\n",
    "-------\n",
    "class后跟类名，紧接着是(object),表示该类是从哪个类继承下来的，没有合适的类，就用object类，这是所有类最终都会继承的类\n",
    "\n",
    "\"\"\"\n",
    "class Student(object):\n",
    "    def __init__(self,name,age): #l类可以起到模板作用，__init__对创建的对象进行初始化操作，\n",
    "                                          #通过这个方法我们可以为学生对象绑定name和age两个属性\n",
    "                                          #init的第一个参数永远都是self，表示创建的实例本身，因此，在init方法内部，就可以把各种属性绑定到self，因为self就指向创建的实例本身\n",
    "                                          #在init方法下，创建实例的时候就不能传入空的参数了，必须传入与init方法匹配的参数，但 self不需要传参，python解释器自己会把实例的变量传进去\n",
    "        self.name = name\n",
    "        self.age = age \n",
    "        \n",
    "st=Student('zwj',22)\n",
    "st.name"
   ]
  },
  {
   "cell_type": "code",
   "execution_count": 6,
   "metadata": {},
   "outputs": [
    {
     "name": "stdout",
     "output_type": "stream",
     "text": [
      "hw:100\n"
     ]
    }
   ],
   "source": [
    "\"\"\"\n",
    "2.数据的封装\n",
    "----------\n",
    "可以直接在类的内部定义访问数据的函数，这样就把数据封装起来了。这些封装数据的函数和类本身是关联起来的，称之为类的方法：\n",
    "要定一个方法，除了第一个参数是self外，其他和普通函数一样。要调用一个方法，只需在实例变量上直接调用，除了self不用传递，其他参数正常传入\n",
    "\n",
    "\n",
    "\n",
    "\"\"\"\n",
    "class Student(object):\n",
    "    def __init__(self,name,score):\n",
    "        self.name = name\n",
    "        self.score = score\n",
    "    \n",
    "    def print_score(self):\n",
    "        print('%s:%s' % (self.name,self.score))\n",
    "\n",
    "std=Student('hw',100)\n",
    "std.print_score()\n",
    "        \n",
    "        \n",
    "        \n",
    "        \n",
    "        \n",
    "        \n",
    "        "
   ]
  },
  {
   "cell_type": "code",
   "execution_count": 7,
   "metadata": {},
   "outputs": [
    {
     "ename": "AttributeError",
     "evalue": "'Student' object has no attribute '__name'",
     "output_type": "error",
     "traceback": [
      "\u001b[0;31m---------------------------------------------------------------------------\u001b[0m",
      "\u001b[0;31mAttributeError\u001b[0m                            Traceback (most recent call last)",
      "\u001b[0;32m<ipython-input-7-62213d9b4711>\u001b[0m in \u001b[0;36m<module>\u001b[0;34m\u001b[0m\n\u001b[1;32m     14\u001b[0m \u001b[0;34m\u001b[0m\u001b[0m\n\u001b[1;32m     15\u001b[0m \u001b[0ms1\u001b[0m\u001b[0;34m=\u001b[0m\u001b[0mStudent\u001b[0m\u001b[0;34m(\u001b[0m\u001b[0;34m'wjj'\u001b[0m\u001b[0;34m,\u001b[0m\u001b[0;36m99\u001b[0m\u001b[0;34m)\u001b[0m\u001b[0;34m\u001b[0m\u001b[0;34m\u001b[0m\u001b[0m\n\u001b[0;32m---> 16\u001b[0;31m \u001b[0ms1\u001b[0m\u001b[0;34m.\u001b[0m\u001b[0m__name\u001b[0m\u001b[0;34m(\u001b[0m\u001b[0;34m)\u001b[0m\u001b[0;34m\u001b[0m\u001b[0;34m\u001b[0m\u001b[0m\n\u001b[0m",
      "\u001b[0;31mAttributeError\u001b[0m: 'Student' object has no attribute '__name'"
     ]
    }
   ],
   "source": [
    "\"\"\"\n",
    "3.类中的私有变量\n",
    "-------------\n",
    "在属性名称前面加上两个下划线__，就变成了一个私有变量(private)，只有内部可以访问，外部不能访问\n",
    "这样就确保了外部代码不能随意修改对象内部状态\n",
    "\n",
    "\"\"\"\n",
    "class Student(object):\n",
    "    def __init__(self,name,score):\n",
    "        self.__name = name\n",
    "        self.__score = score\n",
    "    \n",
    "    def print_score(self):\n",
    "        print('%s:%s' % (self.__name,self.__score))\n",
    "\n",
    "s1=Student('wjj',99)\n",
    "s1.__name()"
   ]
  },
  {
   "cell_type": "code",
   "execution_count": null,
   "metadata": {},
   "outputs": [],
   "source": []
  }
 ],
 "metadata": {
  "kernelspec": {
   "display_name": "Python 3",
   "language": "python",
   "name": "python3"
  },
  "language_info": {
   "codemirror_mode": {
    "name": "ipython",
    "version": 3
   },
   "file_extension": ".py",
   "mimetype": "text/x-python",
   "name": "python",
   "nbconvert_exporter": "python",
   "pygments_lexer": "ipython3",
   "version": "3.7.3"
  }
 },
 "nbformat": 4,
 "nbformat_minor": 2
}
