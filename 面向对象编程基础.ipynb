{
 "cells": [
  {
   "cell_type": "markdown",
   "metadata": {},
   "source": [
    "面向对象编程:（三大要素：封装、继承、多态）\n",
    "把一组数据结构和处理它们的方法组成对象(object)，把相同行为的对象归纳为类(class)，通过类的封装隐藏内部细节，通过继承实现类的特化和泛化，通过多态实现基于对象类型的动态分派"
   ]
  },
  {
   "cell_type": "code",
   "execution_count": 3,
   "metadata": {},
   "outputs": [
    {
     "data": {
      "text/plain": [
       "22"
      ]
     },
     "execution_count": 3,
     "metadata": {},
     "output_type": "execute_result"
    }
   ],
   "source": [
    "\"\"\"\n",
    "1.定义类\n",
    "-------\n",
    "class后跟类名，紧接着是(object),表示该类是从哪个类继承下来的，没有合适的类，就用object类，这是所有类最终都会继承的类\n",
    "\n",
    "\"\"\"\n",
    "class Student(object):\n",
    "    def __init__(self,name,age): #l类可以起到模板作用，__init__对创建的对象进行初始化操作，\n",
    "                                          #通过这个方法我们可以为学生对象绑定name和age两个属性\n",
    "                                          #init的第一个参数永远都是self，表示创建的实例本身，因此，在init方法内部，就可以把各种属性绑定到self，因为self就指向创建的实例本身\n",
    "                                          #在init方法下，创建实例的时候就不能传入空的参数了，必须传入与init方法匹配的参数，但 self不需要传参，python解释器自己会把实例的变量传进去\n",
    "        self.name = name\n",
    "        self.age = age \n",
    "        \n",
    "st=Student('zwj',22)\n",
    "st.name"
   ]
  },
  {
   "cell_type": "code",
   "execution_count": 6,
   "metadata": {},
   "outputs": [
    {
     "name": "stdout",
     "output_type": "stream",
     "text": [
      "hw:100\n"
     ]
    }
   ],
   "source": [
    "\"\"\"\n",
    "2.数据的封装\n",
    "----------\n",
    "可以直接在类的内部定义访问数据的函数，这样就把数据封装起来了。这些封装数据的函数和类本身是关联起来的，称之为类的方法：\n",
    "要定一个方法，除了第一个参数是self外，其他和普通函数一样。要调用一个方法，只需在实例变量上直接调用，除了self不用传递，其他参数正常传入\n",
    "\n",
    "\n",
    "\n",
    "\"\"\"\n",
    "class Student(object):\n",
    "    def __init__(self,name,score):\n",
    "        self.name = name\n",
    "        self.score = score\n",
    "    \n",
    "    def print_score(self):\n",
    "        print('%s:%s' % (self.name,self.score))\n",
    "\n",
    "std=Student('hw',100)\n",
    "std.print_score()\n",
    "        \n",
    "        \n",
    "        \n",
    "        \n",
    "        \n",
    "        \n",
    "        "
   ]
  },
  {
   "cell_type": "code",
   "execution_count": 7,
   "metadata": {},
   "outputs": [
    {
     "ename": "AttributeError",
     "evalue": "'Student' object has no attribute '__name'",
     "output_type": "error",
     "traceback": [
      "\u001b[0;31m---------------------------------------------------------------------------\u001b[0m",
      "\u001b[0;31mAttributeError\u001b[0m                            Traceback (most recent call last)",
      "\u001b[0;32m<ipython-input-7-62213d9b4711>\u001b[0m in \u001b[0;36m<module>\u001b[0;34m\u001b[0m\n\u001b[1;32m     14\u001b[0m \u001b[0;34m\u001b[0m\u001b[0m\n\u001b[1;32m     15\u001b[0m \u001b[0ms1\u001b[0m\u001b[0;34m=\u001b[0m\u001b[0mStudent\u001b[0m\u001b[0;34m(\u001b[0m\u001b[0;34m'wjj'\u001b[0m\u001b[0;34m,\u001b[0m\u001b[0;36m99\u001b[0m\u001b[0;34m)\u001b[0m\u001b[0;34m\u001b[0m\u001b[0;34m\u001b[0m\u001b[0m\n\u001b[0;32m---> 16\u001b[0;31m \u001b[0ms1\u001b[0m\u001b[0;34m.\u001b[0m\u001b[0m__name\u001b[0m\u001b[0;34m(\u001b[0m\u001b[0;34m)\u001b[0m\u001b[0;34m\u001b[0m\u001b[0;34m\u001b[0m\u001b[0m\n\u001b[0m",
      "\u001b[0;31mAttributeError\u001b[0m: 'Student' object has no attribute '__name'"
     ]
    }
   ],
   "source": [
    "\"\"\"\n",
    "3.类中的私有变量\n",
    "-------------\n",
    "在属性名称前面加上两个下划线__，就变成了一个私有变量(private)，只有内部可以访问，外部不能访问\n",
    "这样就确保了外部代码不能随意修改对象内部状态\n",
    "\n",
    "\"\"\"\n",
    "class Student(object):\n",
    "    def __init__(self,name,score):\n",
    "        self.__name = name\n",
    "        self.__score = score\n",
    "    \n",
    "    def print_score(self):\n",
    "        print('%s:%s' % (self.__name,self.__score))\n",
    "\n",
    "s1=Student('wjj',99)\n",
    "s1.__name()"
   ]
  },
  {
   "cell_type": "code",
   "execution_count": 1,
   "metadata": {},
   "outputs": [
    {
     "data": {
      "text/plain": [
       "'wjj'"
      ]
     },
     "execution_count": 1,
     "metadata": {},
     "output_type": "execute_result"
    }
   ],
   "source": [
    "\"\"\"\n",
    "如果外部代码要获取或者修改上面的name、score，\n",
    "可以给Student类增加get_name和get_score和set_score这样的方法\n",
    "这样做的好处是，可以对参数做检查，避免传入无效的参数\n",
    "\n",
    "\"\"\"\n",
    "class Student(object):\n",
    "    def __init__(self,name,score):\n",
    "        self.__name = name\n",
    "        self.__score = score\n",
    "    def get_name(self):\n",
    "        return self.__name\n",
    "    def set_score(self,score):\n",
    "        self.__score = score\n",
    "\n",
    "s2=Student('wjj',99)\n",
    "s2.get_name()"
   ]
  },
  {
   "cell_type": "markdown",
   "metadata": {},
   "source": [
    "注意：\n",
    "1.在python中，变量名类似__xxx__的，以双下划线开头，以双下划线结尾，是特殊变量，可以直接访问，不是私有变量，不能用__name__、__score__这样的变量名\n",
    "2.有时候，会看到_name，这样的实例变量外部是可以访问的，但是，他的意思是：“虽然我可以被访问，但是请把我视为私有变量，不要随意访问”\n",
    "3.双下划线的实例变量不能被访问的原因是python解释器对外把__name变量改成了__Student__name，所以，仍然可以通过__Student__name来访问__name变量"
   ]
  },
  {
   "cell_type": "code",
   "execution_count": 4,
   "metadata": {},
   "outputs": [
    {
     "name": "stdout",
     "output_type": "stream",
     "text": [
      "动物正在奔跑......\n",
      "动物正在奔跑......\n"
     ]
    }
   ],
   "source": [
    "\"\"\"\n",
    "4.继承\n",
    "继承的最大好处就是子类什么都没干，就获得了父类的全部功能\n",
    "\n",
    "\n",
    "\"\"\"\n",
    "class Animal(object):\n",
    "    def run(self):\n",
    "        print('动物正在奔跑......')\n",
    "\n",
    "class Dog(Animal):\n",
    "    pass\n",
    "class Cat(Animal):\n",
    "    pass\n",
    "\n",
    "\n",
    "dog = Dog()\n",
    "dog.run()\n",
    "\n",
    "cat = Cat()\n",
    "cat.run()"
   ]
  },
  {
   "cell_type": "code",
   "execution_count": 5,
   "metadata": {},
   "outputs": [
    {
     "name": "stdout",
     "output_type": "stream",
     "text": [
      "True\n",
      "True\n"
     ]
    }
   ],
   "source": [
    "\"\"\"\n",
    "5.多态\n",
    "当子类和父类都存在相同的run()方法时，子类的run()覆盖了父类的run()，在代码运行时，总会调用子类的run()。\n",
    "这样就获得了继承的另一个好处：多态\n",
    "\n",
    "\"\"\"\n",
    "c = Dog()\n",
    "print(isinstance(c,Dog)) #判断c是否为Dog类型\n",
    "\n",
    "print(isinstance(c,Animal)) #判断c是否为Animal类型\n",
    "\n",
    "#Dog是从Animal继承下来的，创建的实例c是Dog的数据类型，则也是Animal的数据类型\n",
    "#即在继承关系中，如果一个实例的数据类型是某个子类，那它的数据类型也可以被看作是父类，反之不成立"
   ]
  },
  {
   "cell_type": "code",
   "execution_count": 8,
   "metadata": {},
   "outputs": [
    {
     "data": {
      "text/plain": [
       "generator"
      ]
     },
     "execution_count": 8,
     "metadata": {},
     "output_type": "execute_result"
    }
   ],
   "source": [
    "\"\"\"\n",
    "6.获取类中的对象的属性和类型\n",
    "（1）type()函数\n",
    "\n",
    "\"\"\"\n",
    "#基本类型都可以用type()判断\n",
    "type(123)\n",
    "type('str')\n",
    "type(None)\n",
    "\n",
    "#如果一个变量指向函数或者类，也可以用type()\n",
    "type(c)  #上面的c函数 >>>__main__.Dog\n",
    "\n",
    "#判断一个对象是否是函数，可以使用types模块中定义的常量\n",
    "import types\n",
    "\n",
    "def fn():\n",
    "    pass\n",
    "type(fn)  #>>>function\n",
    "\n",
    "type((x for x in range(10)))   #>>>generator生成器"
   ]
  },
  {
   "cell_type": "code",
   "execution_count": 14,
   "metadata": {},
   "outputs": [
    {
     "name": "stdout",
     "output_type": "stream",
     "text": [
      "True\n"
     ]
    },
    {
     "data": {
      "text/plain": [
       "True"
      ]
     },
     "execution_count": 14,
     "metadata": {},
     "output_type": "execute_result"
    }
   ],
   "source": [
    "\"\"\"\n",
    "(2)isinstance()函数\n",
    "\n",
    "\"\"\"\n",
    "#1\n",
    "c = Dog()\n",
    "print(isinstance(c,Dog)) #判断c是否为Dog类型\n",
    "\n",
    "#2还可以判断一个变量是否是某些类型中的一种\n",
    "isinstance([1,2,3],(list,tuple))  #判断[1,2,3]是(list,tuple)中的list还是tuple，满足其中一种则返回True"
   ]
  },
  {
   "cell_type": "code",
   "execution_count": 15,
   "metadata": {
    "collapsed": true
   },
   "outputs": [
    {
     "data": {
      "text/plain": [
       "['__add__',\n",
       " '__class__',\n",
       " '__contains__',\n",
       " '__delattr__',\n",
       " '__dir__',\n",
       " '__doc__',\n",
       " '__eq__',\n",
       " '__format__',\n",
       " '__ge__',\n",
       " '__getattribute__',\n",
       " '__getitem__',\n",
       " '__getnewargs__',\n",
       " '__gt__',\n",
       " '__hash__',\n",
       " '__init__',\n",
       " '__init_subclass__',\n",
       " '__iter__',\n",
       " '__le__',\n",
       " '__len__',\n",
       " '__lt__',\n",
       " '__mod__',\n",
       " '__mul__',\n",
       " '__ne__',\n",
       " '__new__',\n",
       " '__reduce__',\n",
       " '__reduce_ex__',\n",
       " '__repr__',\n",
       " '__rmod__',\n",
       " '__rmul__',\n",
       " '__setattr__',\n",
       " '__sizeof__',\n",
       " '__str__',\n",
       " '__subclasshook__',\n",
       " 'capitalize',\n",
       " 'casefold',\n",
       " 'center',\n",
       " 'count',\n",
       " 'encode',\n",
       " 'endswith',\n",
       " 'expandtabs',\n",
       " 'find',\n",
       " 'format',\n",
       " 'format_map',\n",
       " 'index',\n",
       " 'isalnum',\n",
       " 'isalpha',\n",
       " 'isascii',\n",
       " 'isdecimal',\n",
       " 'isdigit',\n",
       " 'isidentifier',\n",
       " 'islower',\n",
       " 'isnumeric',\n",
       " 'isprintable',\n",
       " 'isspace',\n",
       " 'istitle',\n",
       " 'isupper',\n",
       " 'join',\n",
       " 'ljust',\n",
       " 'lower',\n",
       " 'lstrip',\n",
       " 'maketrans',\n",
       " 'partition',\n",
       " 'replace',\n",
       " 'rfind',\n",
       " 'rindex',\n",
       " 'rjust',\n",
       " 'rpartition',\n",
       " 'rsplit',\n",
       " 'rstrip',\n",
       " 'split',\n",
       " 'splitlines',\n",
       " 'startswith',\n",
       " 'strip',\n",
       " 'swapcase',\n",
       " 'title',\n",
       " 'translate',\n",
       " 'upper',\n",
       " 'zfill']"
      ]
     },
     "execution_count": 15,
     "metadata": {},
     "output_type": "execute_result"
    }
   ],
   "source": [
    "\"\"\"\n",
    "dir()函数\n",
    "获得一个对象的所以属性和方法，它返回的是一个包含字符串的list，\n",
    "\n",
    "\"\"\"\n",
    "dir('ABC')"
   ]
  },
  {
   "cell_type": "code",
   "execution_count": 16,
   "metadata": {},
   "outputs": [
    {
     "data": {
      "text/plain": [
       "3"
      ]
     },
     "execution_count": 16,
     "metadata": {},
     "output_type": "execute_result"
    }
   ],
   "source": [
    "len('ABC')\n",
    "\n",
    "'ABC'.__len__()\n",
    "#上面两个代码是等价的，\n",
    "#在python中，如果调用len()函数获取一个对象的长度，，实际上，在len()函数内部，它自动取调用该对象的len()方法"
   ]
  },
  {
   "cell_type": "code",
   "execution_count": 18,
   "metadata": {},
   "outputs": [],
   "source": [
    "class MyObject(object):\n",
    "    def __init__(self):\n",
    "            self.x = 9\n",
    "    def power(self):\n",
    "         return self.x * self.x\n",
    "\n",
    "obj = MyObject()\n"
   ]
  },
  {
   "cell_type": "code",
   "execution_count": 19,
   "metadata": {},
   "outputs": [
    {
     "data": {
      "text/plain": [
       "19"
      ]
     },
     "execution_count": 19,
     "metadata": {},
     "output_type": "execute_result"
    }
   ],
   "source": [
    "#测试该对象的属性\n",
    "hasattr(obj, 'x') # 有属性'x'吗？\n",
    "\n",
    "\n",
    "#修改器\n",
    "setattr(obj, 'y', 19) # 设置一个属性'y' \n",
    "\n",
    "\n",
    "#访问器\n",
    "getattr(obj, 'y') # 获取属性'y'"
   ]
  },
  {
   "cell_type": "code",
   "execution_count": null,
   "metadata": {},
   "outputs": [],
   "source": [
    "#测试对象的方法\n",
    "hasattr(obj, 'power') # 有属性'power'吗？\n",
    "getattr(obj, 'power') # 获取属性'power'\n",
    "fn = getattr(obj, 'power') # 获取属性'power'并赋值到变量fn"
   ]
  },
  {
   "cell_type": "code",
   "execution_count": null,
   "metadata": {},
   "outputs": [],
   "source": []
  }
 ],
 "metadata": {
  "kernelspec": {
   "display_name": "Python 3",
   "language": "python",
   "name": "python3"
  },
  "language_info": {
   "codemirror_mode": {
    "name": "ipython",
    "version": 3
   },
   "file_extension": ".py",
   "mimetype": "text/x-python",
   "name": "python",
   "nbconvert_exporter": "python",
   "pygments_lexer": "ipython3",
   "version": "3.7.3"
  }
 },
 "nbformat": 4,
 "nbformat_minor": 2
}
