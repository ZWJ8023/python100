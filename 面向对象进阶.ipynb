{
 "cells": [
  {
   "cell_type": "code",
   "execution_count": 14,
   "metadata": {},
   "outputs": [],
   "source": [
    "#1.给类或实例动态绑定属性和方法\n",
    "\n",
    "#我们在定义完一个类之后，若不想修改源代码，可以动态绑定一些属性和方法\n",
    "\n",
    "class Student(object):\n",
    "        pass\n",
    "    \n",
    "s = Student()\n",
    "s.name = 'zwj' #给一个实例绑定了一个属性\n",
    "\n",
    "def set_age(self,age):\n",
    "    self.age = age\n",
    "    \n"
   ]
  },
  {
   "cell_type": "code",
   "execution_count": 15,
   "metadata": {},
   "outputs": [],
   "source": [
    "\"\"\"\n",
    "2.slots函数\n",
    "限制实例的属性\n",
    "------------\n",
    "注：使用slots要注意，slots定义的属性仅对当前类实例起作用，对继承的子类是不起作用的\n",
    "\"\"\"\n",
    "class Student(object):\n",
    "    #限定Student对象只能绑定name、age属性\n",
    "    __slots__ = ('name','age') #用tuple定义允许绑定的属性名称\n"
   ]
  },
  {
   "cell_type": "code",
   "execution_count": 19,
   "metadata": {},
   "outputs": [
    {
     "name": "stdout",
     "output_type": "stream",
     "text": [
      "mm\n",
      "18\n"
     ]
    }
   ],
   "source": [
    "s1= Student() #创建新的实例\n",
    "s1.name = 'mm' #绑定属性'name'\n",
    "s1.age = 18  #绑定属性‘age’\n",
    "#s1.score = 99 #绑定属性‘score’  >>>由于‘score’没有放到slots中，所以不能绑定sore属性，试图绑定sore将得到AttributeError的错误。\n",
    "\n",
    "print(s1.name)\n",
    "print(s1.age)\n"
   ]
  },
  {
   "cell_type": "code",
   "execution_count": 32,
   "metadata": {},
   "outputs": [
    {
     "name": "stdout",
     "output_type": "stream",
     "text": [
      "小红不及格\n",
      "小红及格\n"
     ]
    }
   ],
   "source": [
    "\"\"\"\n",
    "3.使用@property装饰器：\n",
    "把一个方法变成属性调用的\n",
    "\n",
    "\"\"\"\n",
    "class Student(object):\n",
    "    def __init__(self,name,score):\n",
    "        self._name =name\n",
    "        self._score = score\n",
    "    \n",
    "    #访问器 - getter方法\n",
    "    @property\n",
    "    def score(self):\n",
    "        return self._score\n",
    "    \n",
    "    #修改器 - setter方法\n",
    "    @score.setter\n",
    "    def score(self,score):\n",
    "        self._score=score\n",
    "        \n",
    "    def dengji(self):\n",
    "        if self._score <60:\n",
    "            print('%s不及格' % self._name)\n",
    "        else:\n",
    "            print('%s及格' % self._name)\n",
    "            \n",
    "student = Student('小红',59)\n",
    "student.dengji()\n",
    "student.score=99  #可以直接修改，变成了可控的，实际转化为student.set_score(99)\n",
    "student.dengji()   #实际转化为student.get_score()\n",
    "\n",
    "    "
   ]
  },
  {
   "cell_type": "code",
   "execution_count": 34,
   "metadata": {},
   "outputs": [
    {
     "name": "stdout",
     "output_type": "stream",
     "text": [
      "小红及格\n"
     ]
    }
   ],
   "source": [
    "student.name='xiaolv'   #不能设置属性\n",
    "student.dengji()"
   ]
  },
  {
   "cell_type": "markdown",
   "metadata": {},
   "source": [
    "把一个getter方法改变成属性，只需要加上@property就可以，@property本身又创建了另一个装饰器@score.setter，负责把一个setter方法变成属性赋值，于是，就拥有了一个可控的属性操作"
   ]
  },
  {
   "cell_type": "code",
   "execution_count": 44,
   "metadata": {},
   "outputs": [
    {
     "ename": "TypeError",
     "evalue": "'int' object is not callable",
     "output_type": "error",
     "traceback": [
      "\u001b[0;31m---------------------------------------------------------------------------\u001b[0m",
      "\u001b[0;31mTypeError\u001b[0m                                 Traceback (most recent call last)",
      "\u001b[0;32m<ipython-input-44-edd411ab784c>\u001b[0m in \u001b[0;36m<module>\u001b[0;34m\u001b[0m\n\u001b[1;32m     21\u001b[0m \u001b[0;34m\u001b[0m\u001b[0m\n\u001b[1;32m     22\u001b[0m \u001b[0ms\u001b[0m\u001b[0;34m=\u001b[0m\u001b[0mStudent_1\u001b[0m\u001b[0;34m(\u001b[0m\u001b[0;36m1997\u001b[0m\u001b[0;34m)\u001b[0m\u001b[0;34m\u001b[0m\u001b[0;34m\u001b[0m\u001b[0m\n\u001b[0;32m---> 23\u001b[0;31m \u001b[0ms\u001b[0m\u001b[0;34m.\u001b[0m\u001b[0mage\u001b[0m\u001b[0;34m(\u001b[0m\u001b[0;34m)\u001b[0m\u001b[0;34m\u001b[0m\u001b[0;34m\u001b[0m\u001b[0m\n\u001b[0m\u001b[1;32m     24\u001b[0m \u001b[0;34m\u001b[0m\u001b[0m\n",
      "\u001b[0;31mTypeError\u001b[0m: 'int' object is not callable"
     ]
    }
   ],
   "source": [
    "#还可以定义只读属性，只定义getter方法，不定义setter方法就是一个只读属性\n",
    "\n",
    "class Student_1(object):\n",
    "    def __init__(self,birth):\n",
    "        self._birth =birth\n",
    "        \n",
    "        \n",
    "    \n",
    "    \n",
    "    @property\n",
    "    def birth(self):\n",
    "        return self._birth\n",
    "    \n",
    "    @birth.setter\n",
    "    def birth(self,value):\n",
    "        self._birth = value\n",
    "        \n",
    "    @property\n",
    "    def age(self):\n",
    "        return 2019-self._birth\n",
    "    \n",
    "s=Student_1(1997)\n",
    "s.age()\n",
    "    "
   ]
  },
  {
   "cell_type": "code",
   "execution_count": null,
   "metadata": {},
   "outputs": [],
   "source": []
  }
 ],
 "metadata": {
  "kernelspec": {
   "display_name": "Python 3",
   "language": "python",
   "name": "python3"
  },
  "language_info": {
   "codemirror_mode": {
    "name": "ipython",
    "version": 3
   },
   "file_extension": ".py",
   "mimetype": "text/x-python",
   "name": "python",
   "nbconvert_exporter": "python",
   "pygments_lexer": "ipython3",
   "version": "3.7.3"
  }
 },
 "nbformat": 4,
 "nbformat_minor": 2
}
