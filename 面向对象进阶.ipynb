{
 "cells": [
  {
   "cell_type": "code",
   "execution_count": 14,
   "metadata": {},
   "outputs": [],
   "source": [
    "#1.给类或实例动态绑定属性和方法\n",
    "\n",
    "#我们在定义完一个类之后，若不想修改源代码，可以动态绑定一些属性和方法\n",
    "\n",
    "class Student(object):\n",
    "        pass\n",
    "    \n",
    "s = Student()\n",
    "s.name = 'zwj' #给一个实例绑定了一个属性\n",
    "\n",
    "def set_age(self,age):\n",
    "    self.age = age\n",
    "    \n"
   ]
  },
  {
   "cell_type": "code",
   "execution_count": 15,
   "metadata": {},
   "outputs": [],
   "source": [
    "\"\"\"\n",
    "2.slots函数\n",
    "限制实例的属性\n",
    "------------\n",
    "注：使用slots要注意，slots定义的属性仅对当前类实例起作用，对继承的子类是不起作用的\n",
    "\"\"\"\n",
    "class Student(object):\n",
    "    #限定Student对象只能绑定name、age属性\n",
    "    __slots__ = ('name','age') #用tuple定义允许绑定的属性名称\n"
   ]
  },
  {
   "cell_type": "code",
   "execution_count": 19,
   "metadata": {},
   "outputs": [
    {
     "name": "stdout",
     "output_type": "stream",
     "text": [
      "mm\n",
      "18\n"
     ]
    }
   ],
   "source": [
    "s1= Student() #创建新的实例\n",
    "s1.name = 'mm' #绑定属性'name'\n",
    "s1.age = 18  #绑定属性‘age’\n",
    "#s1.score = 99 #绑定属性‘score’  >>>由于‘score’没有放到slots中，所以不能绑定sore属性，试图绑定sore将得到AttributeError的错误。\n",
    "\n",
    "print(s1.name)\n",
    "print(s1.age)\n"
   ]
  },
  {
   "cell_type": "code",
   "execution_count": 32,
   "metadata": {},
   "outputs": [
    {
     "name": "stdout",
     "output_type": "stream",
     "text": [
      "小红不及格\n",
      "小红及格\n"
     ]
    }
   ],
   "source": [
    "\"\"\"\n",
    "3.使用@property装饰器：\n",
    "把一个方法变成属性调用的\n",
    "\n",
    "\"\"\"\n",
    "class Student(object):\n",
    "    def __init__(self,name,score):\n",
    "        self._name =name\n",
    "        self._score = score\n",
    "    \n",
    "    #访问器 - getter方法\n",
    "    @property\n",
    "    def score(self):\n",
    "        return self._score\n",
    "    \n",
    "    #修改器 - setter方法\n",
    "    @score.setter\n",
    "    def score(self,score):\n",
    "        self._score=score\n",
    "        \n",
    "    def dengji(self):\n",
    "        if self._score <60:\n",
    "            print('%s不及格' % self._name)\n",
    "        else:\n",
    "            print('%s及格' % self._name)\n",
    "            \n",
    "student = Student('小红',59)\n",
    "student.dengji()\n",
    "student.score=99  #可以直接修改，变成了可控的，实际转化为student.set_score(99)\n",
    "student.dengji()   #实际转化为student.get_score()\n",
    "\n",
    "    "
   ]
  },
  {
   "cell_type": "code",
   "execution_count": 34,
   "metadata": {},
   "outputs": [
    {
     "name": "stdout",
     "output_type": "stream",
     "text": [
      "小红及格\n"
     ]
    }
   ],
   "source": [
    "student.name='xiaolv'   #不能设置属性\n",
    "student.dengji()"
   ]
  },
  {
   "cell_type": "markdown",
   "metadata": {},
   "source": [
    "把一个getter方法改变成属性，只需要加上@property就可以，@property本身又创建了另一个装饰器@score.setter，负责把一个setter方法变成属性赋值，于是，就拥有了一个可控的属性操作"
   ]
  },
  {
   "cell_type": "code",
   "execution_count": 7,
   "metadata": {},
   "outputs": [
    {
     "ename": "TypeError",
     "evalue": "Student_1() takes no arguments",
     "output_type": "error",
     "traceback": [
      "\u001b[0;31m---------------------------------------------------------------------------\u001b[0m",
      "\u001b[0;31mTypeError\u001b[0m                                 Traceback (most recent call last)",
      "\u001b[0;32m<ipython-input-7-c1738a188c90>\u001b[0m in \u001b[0;36m<module>\u001b[0;34m\u001b[0m\n\u001b[1;32m     19\u001b[0m         \u001b[0;32mreturn\u001b[0m \u001b[0;36m2015\u001b[0m\u001b[0;34m-\u001b[0m\u001b[0mself\u001b[0m\u001b[0;34m.\u001b[0m\u001b[0m_birth\u001b[0m\u001b[0;34m\u001b[0m\u001b[0;34m\u001b[0m\u001b[0m\n\u001b[1;32m     20\u001b[0m \u001b[0;34m\u001b[0m\u001b[0m\n\u001b[0;32m---> 21\u001b[0;31m \u001b[0ms\u001b[0m\u001b[0;34m=\u001b[0m\u001b[0mStudent_1\u001b[0m\u001b[0;34m(\u001b[0m\u001b[0;36m1997\u001b[0m\u001b[0;34m)\u001b[0m\u001b[0;34m\u001b[0m\u001b[0;34m\u001b[0m\u001b[0m\n\u001b[0m\u001b[1;32m     22\u001b[0m \u001b[0ms\u001b[0m\u001b[0;34m.\u001b[0m\u001b[0mbirth\u001b[0m \u001b[0;34m=\u001b[0m \u001b[0;36m1997\u001b[0m\u001b[0;34m\u001b[0m\u001b[0;34m\u001b[0m\u001b[0m\n\u001b[1;32m     23\u001b[0m \u001b[0;34m\u001b[0m\u001b[0m\n",
      "\u001b[0;31mTypeError\u001b[0m: Student_1() takes no arguments"
     ]
    }
   ],
   "source": [
    "#还可以定义只读属性，只定义getter方法，不定义setter方法就是一个只读属性\n",
    "\n",
    "class Student_1(object):\n",
    "    def __init__(self,birth):\n",
    "        self._birth =birth\n",
    "        \n",
    "        \n",
    "    \n",
    "    \n",
    "    @property\n",
    "    def birth(self):\n",
    "        return self._birth\n",
    "    \n",
    "    @birth.setter\n",
    "    def birth(self,value):\n",
    "        self._birth = value\n",
    "        \n",
    "    @property\n",
    "    def age(self):\n",
    "        return 2015-self._birth\n",
    "    \n",
    "s=Student_1(1997)\n",
    "print(s.birth = 1997)\n",
    "\n",
    "    "
   ]
  },
  {
   "cell_type": "markdown",
   "metadata": {},
   "source": [
    "静态方法\n",
    "@staticmethod 返回函数的静态方法，该方法不强制要求传递参数\n",
    "\n",
    "（之前我们在类中定义的方法都是对象方法，也就是说这些方法都是发送给对象的消息。但实际上在写类中的方法并不是都需要是对象方法）"
   ]
  },
  {
   "cell_type": "code",
   "execution_count": 8,
   "metadata": {},
   "outputs": [
    {
     "name": "stdout",
     "output_type": "stream",
     "text": [
      "wow\n"
     ]
    }
   ],
   "source": [
    "#声明一个静态方法\n",
    "class C(object):\n",
    "    @staticmethod\n",
    "    def f():\n",
    "        print('wow')\n",
    "        \n",
    "C.f()  #j静态方法无需实例化"
   ]
  },
  {
   "cell_type": "code",
   "execution_count": 9,
   "metadata": {},
   "outputs": [
    {
     "name": "stdout",
     "output_type": "stream",
     "text": [
      "wow\n"
     ]
    }
   ],
   "source": [
    "A=C() #也可以实例化调用\n",
    "A.f()"
   ]
  },
  {
   "cell_type": "code",
   "execution_count": 14,
   "metadata": {},
   "outputs": [
    {
     "name": "stdout",
     "output_type": "stream",
     "text": [
      "12\n",
      "6.0\n"
     ]
    }
   ],
   "source": [
    "\"\"\"\n",
    "例如我们定义一个“三角形”类，通过传入三条边长来构造三角形,\n",
    "并提供计算周长和面积的方法，但是传入的三条边长未必能构成三角形\n",
    "所以写一个方法来验证三条边长是否可以构成三角形，而这个方法就不是对象方法\n",
    "因为在调用这个方法时三角形对象尚未创建出来（因为不知道三条边能不能构成三角形）\n",
    "所以这个方法属于三角形类而并不属于三角形对象的。\n",
    "---------------------------------------\n",
    "这类问题可使用静态方法来解决，代码如下：\n",
    "\n",
    "\n",
    "\n",
    "\"\"\"\n",
    "import math\n",
    "\n",
    "class Sanjiao(object):\n",
    "    \n",
    "    def __init__(self, a, b, c):\n",
    "        self._a = a\n",
    "        self._b = b\n",
    "        self._c = c\n",
    "        \n",
    "    \n",
    "    @staticmethod   \n",
    "    def bian_chang(a, b, c):\n",
    "        return a +b >c and b+c >a and a+c >b\n",
    "    \n",
    "    def perimeter(self):\n",
    "        return self._a + self._b + self._c\n",
    "    \n",
    "    def area(self):\n",
    "        half = self.perimeter()/2\n",
    "        return math.sqrt(half * (half -self._a)*(half -self._b)*(half - self._c))\n",
    "        #海伦公式求三角形面积\n",
    "        # 面积 = sqrt(周长一半 *(周长一半 - a)*(周长一半 - b)*(周长一半 - c))\n",
    "    \n",
    "    \n",
    "def main():\n",
    "    a,b,c=3,4,5\n",
    "    #静态方法和类都是通过给类发消息来调用的\n",
    "    if Sanjiao.bian_chang(a,b,c):\n",
    "        t=Sanjiao(a,b,c)\n",
    "        print(t.perimeter())\n",
    "        #也可以通过给类发消息来调用对象，但是要传入接受消息的对象作为参数\n",
    "        #print(Sanjiao.perimeter(t))\n",
    "        print(t.area())\n",
    "        #print(Sanjiao.area(t))\n",
    "        \n",
    "    else:\n",
    "        print('无法构成三角形')\n",
    "        \n",
    "        \n",
    "main()      \n",
    "        "
   ]
  },
  {
   "cell_type": "markdown",
   "metadata": {},
   "source": [
    "类方法\n",
    "pyrhon还可以在类中定义类方法，类方法第一参数约定名为cls，它代表的是当前相关的信息的对象(类本身也是一个对象，有的地方也称之为类的元数据对象)，通过这个参数我们可以获取和类相关的信息并且可以创建出类的对象。"
   ]
  },
  {
   "cell_type": "markdown",
   "metadata": {},
   "source": [
    "@classmethod 修饰符，返回函数的类方法\n",
    "classmethod修饰符对应的函数不需要实例化，不需要self参数，但第一参数需要自身类cls参数\n",
    "可以用来调用类的属性，类的方法，实例化对象等"
   ]
  },
  {
   "cell_type": "code",
   "execution_count": 16,
   "metadata": {},
   "outputs": [
    {
     "name": "stdout",
     "output_type": "stream",
     "text": [
      "haha\n",
      "1\n",
      "wow\n"
     ]
    }
   ],
   "source": [
    "class A(object):\n",
    "    num =1\n",
    "    def fun1(self):\n",
    "        print('wow')\n",
    "    \n",
    "    @classmethod \n",
    "    def fun2(cls):\n",
    "        print('haha')\n",
    "        print(cls.num)\n",
    "        cls().fun1()  #调用wow方法\n",
    "        \n",
    "A.fun2()  #不需要实例化\n",
    "        \n",
    "     "
   ]
  },
  {
   "cell_type": "code",
   "execution_count": null,
   "metadata": {},
   "outputs": [],
   "source": [
    "import time\n",
    "\n",
    "\"\"\"数字时钟\"\"\"\n",
    "class Clock(object):\n",
    "    def __init__(self,hour=0, minute=0, second=0):\n",
    "        self._hour =hour\n",
    "        self._minute =minute\n",
    "        self._second = second\n",
    "        \n",
    "    @classmethod\n",
    "    def now(cls):\n",
    "        \n",
    "        \n",
    "        \n",
    "    "
   ]
  },
  {
   "cell_type": "code",
   "execution_count": null,
   "metadata": {},
   "outputs": [],
   "source": []
  },
  {
   "cell_type": "code",
   "execution_count": null,
   "metadata": {},
   "outputs": [],
   "source": []
  },
  {
   "cell_type": "code",
   "execution_count": null,
   "metadata": {},
   "outputs": [],
   "source": []
  }
 ],
 "metadata": {
  "kernelspec": {
   "display_name": "Python 3",
   "language": "python",
   "name": "python3"
  },
  "language_info": {
   "codemirror_mode": {
    "name": "ipython",
    "version": 3
   },
   "file_extension": ".py",
   "mimetype": "text/x-python",
   "name": "python",
   "nbconvert_exporter": "python",
   "pygments_lexer": "ipython3",
   "version": "3.7.3"
  }
 },
 "nbformat": 4,
 "nbformat_minor": 2
}
