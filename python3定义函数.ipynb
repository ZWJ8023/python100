{
 "cells": [
  {
   "cell_type": "raw",
   "metadata": {},
   "source": [
    "-定义函数\n",
    "-用def关键字来定义函数，\n",
    "-在函数名后面的圆括号中可以放置传递给函数的参数\n",
    "-参数就相当于自变量\n",
    "-函数执行完可以通过return返回一个值，相当于因变量\n"
   ]
  },
  {
   "cell_type": "code",
   "execution_count": 9,
   "metadata": {},
   "outputs": [
    {
     "name": "stdout",
     "output_type": "stream",
     "text": [
      "m=7\n",
      "n=3\n",
      "35.0\n"
     ]
    }
   ],
   "source": [
    "def factorial(num):\n",
    "    \"\"\"\n",
    "    求阶层\n",
    "    ------\n",
    "    求C(n,m)=m!/(n!(m-n)!)\n",
    "    num1 *= i表示n阶数相乘的结果\n",
    "    \n",
    "    则定义了一个函数factorial(num)来求阶数想成\n",
    "    直接调用调用这个函数计算结果\n",
    "    \n",
    "    \"\"\"\n",
    "    num1=1\n",
    "    for i in range(1,num+1):\n",
    "        num1 *= i\n",
    "    return num1\n",
    "m=int(input('m='))\n",
    "n=int(input('n='))\n",
    "res= factorial(m)/(factorial(n)* factorial(m-n))\n",
    "print(res)"
   ]
  },
  {
   "cell_type": "code",
   "execution_count": 12,
   "metadata": {},
   "outputs": [
    {
     "name": "stdout",
     "output_type": "stream",
     "text": [
      "num1=7\n",
      "num2=3\n",
      "35.0\n"
     ]
    }
   ],
   "source": [
    "import math\n",
    "\n",
    "num1=int(input('num1='))\n",
    "num2=int(input('num2='))\n",
    "a=factorial(num1)/(factorial(num2)*factorial(num1-num2))\n",
    "print(a)"
   ]
  },
  {
   "cell_type": "markdown",
   "metadata": {},
   "source": [
    "-函数的参数可以有默认值\n",
    "-也支持使用可变参数\n",
    "-定义一个函数可以有多种不同的使用方式"
   ]
  },
  {
   "cell_type": "code",
   "execution_count": 40,
   "metadata": {},
   "outputs": [],
   "source": [
    "import random\n",
    "\n",
    "def yaoshaizi(n=2):\n",
    "    \"\"\"\n",
    "    摇色子\n",
    "    -----\n",
    "    n表示色子的个数\n",
    "    用for循环对色子数进行遍历\n",
    "    将随机摇出的数相加求和\n",
    "    \"\"\"\n",
    "    num=0\n",
    "    for i in range(n):\n",
    "        num +=random.randint(1,6)\n",
    "    return num\n",
    "\n",
    "\n",
    "\n",
    "    "
   ]
  },
  {
   "cell_type": "code",
   "execution_count": 41,
   "metadata": {},
   "outputs": [
    {
     "name": "stdout",
     "output_type": "stream",
     "text": [
      "5\n",
      "14\n"
     ]
    }
   ],
   "source": [
    "#如果没有在函数名括号中指定参数，那么默认值是n=2，即摇两颗色子\n",
    "print(yaoshaizi( ))\n",
    "#如果是要多颗色子，例如摇三颗色子\n",
    "print(yaoshaizi(3))\n"
   ]
  },
  {
   "cell_type": "code",
   "execution_count": 46,
   "metadata": {},
   "outputs": [
    {
     "name": "stdout",
     "output_type": "stream",
     "text": [
      "0\n",
      "6\n",
      "3\n",
      "60\n"
     ]
    }
   ],
   "source": [
    "def sum_(a=0,b=0,c=0):\n",
    "    return a+b+c\n",
    "\n",
    "\n",
    "#没有传参，则返回默认值\n",
    "print(sum_())\n",
    "#没有指定参数名，则输入的数值与参数一一对应，\n",
    "print(sum_(1,2,3))\n",
    "print(sum_(1,2))\n",
    "#若指定参数名赋值，则不用考虑参数顺序进行传递\n",
    "print(sum_(c=10,a=20,b=30))"
   ]
  },
  {
   "cell_type": "code",
   "execution_count": 49,
   "metadata": {},
   "outputs": [
    {
     "name": "stdout",
     "output_type": "stream",
     "text": [
      "0\n",
      "1\n",
      "3\n"
     ]
    }
   ],
   "source": [
    "#可变参数，*表示强制命名\n",
    "def add(*args):\n",
    "    \"\"\"\n",
    "        *args表示是一个可变参数\n",
    "        即再调用add函数时，可以传入0个或多个参数\n",
    "        ----------------------------------\n",
    "        用for循环将args遍历出来，自相加\n",
    "    \n",
    "    \"\"\"\n",
    "    num=0\n",
    "    for i in args:\n",
    "        num += i\n",
    "    return num\n",
    "\n",
    "print(add())\n",
    "print(add(1))\n",
    "print(add(1,2))"
   ]
  },
  {
   "cell_type": "code",
   "execution_count": 60,
   "metadata": {},
   "outputs": [
    {
     "name": "stdout",
     "output_type": "stream",
     "text": [
      "3\n",
      "36\n"
     ]
    }
   ],
   "source": [
    "    \"\"\"\n",
    "        练习1.实现计算最大公约数和最小公倍数的函数\n",
    "        ------------------------------------\n",
    "        (1)求最大公倍数\n",
    "        首先要判断输入值的大小，\n",
    "        对小的值进行for循环遍历，\n",
    "        即从最小值本身开始，依次以步长为1的长度递减\n",
    "        用if条件判断参数x,y是否能同时整除i\n",
    "        则此时的i就是两数的最大公约数\n",
    "        ------------------------\n",
    "        (2)求最小公倍数\n",
    "        最小公倍数=x*y//最大公约数 \n",
    "        这里的最大公约数可直接调用上面定义的函数,max_(x,y)\n",
    "\n",
    "    \"\"\"\n",
    "    def max_(x,y):\n",
    "        x>y\n",
    "        for i in range(x,0,-1):\n",
    "            if x % i ==0 and y % i ==0:\n",
    "                return i\n",
    "        y>x\n",
    "        for j in range(y,0,-1):\n",
    "            if x % j == 0 and y %j == 0:\n",
    "                return j\n",
    "            \n",
    "    #最小公倍数=x*y//最大公约数       \n",
    "    def min_(x,y):\n",
    "        res = x*y // max_(x,y)\n",
    "        return res\n",
    "        \n",
    "        \n",
    "print(max_(12,9))\n",
    "print(min_(12,9))\n"
   ]
  },
  {
   "cell_type": "code",
   "execution_count": 5,
   "metadata": {},
   "outputs": [
    {
     "name": "stdout",
     "output_type": "stream",
     "text": [
      "请输入数字：11\n"
     ]
    },
    {
     "data": {
      "text/plain": [
       "False"
      ]
     },
     "execution_count": 5,
     "metadata": {},
     "output_type": "execute_result"
    }
   ],
   "source": [
    "    \"\"\"\n",
    "        练习2.实现判断一个数是不是回文数的函数\n",
    "\n",
    "    \"\"\"\n",
    "    def huiwenshu(num):\n",
    "        num=int(input('请输入数字：'))\n",
    "        num_1=0\n",
    "        while num >0:\n",
    "            num_1 = num_1*10 + num % 10\n",
    "            if num_1 == num:\n",
    "                return True\n",
    "            else:\n",
    "                return False\n",
    "    huiwenshu(121)\n",
    "        "
   ]
  },
  {
   "cell_type": "code",
   "execution_count": 8,
   "metadata": {},
   "outputs": [
    {
     "name": "stdout",
     "output_type": "stream",
     "text": [
      "这个数不是回文数\n"
     ]
    }
   ],
   "source": [
    "def huiwenshu(number):\n",
    "    \"\"\"\n",
    "        请输入一个三位数判断是不是回文数\n",
    "        \n",
    "    \"\"\"\n",
    "    if (number//100)*100 + (number//10%10)*10 + number%10 ==(number%10)*100 + (number//10%10)*10 + number//100:\n",
    "            print('这个数是回文数')\n",
    "    else:\n",
    "            print('这个数不是回文数')\n",
    "huiwenshu(123)"
   ]
  },
  {
   "cell_type": "markdown",
   "metadata": {},
   "source": [
    "-python中是可以在函数内部定义函数的\n",
    "-全局变量（global variable），没有被定义在函数中\n",
    "-局部变量（local variable），被定义在函数中\n",
    "-python中查找一个变量时会按照：“局部作用域”-“嵌套作用域”-“全局作用域”-“内置作用域”"
   ]
  },
  {
   "cell_type": "code",
   "execution_count": 10,
   "metadata": {},
   "outputs": [
    {
     "name": "stdout",
     "output_type": "stream",
     "text": [
      "200\n",
      "200\n"
     ]
    }
   ],
   "source": [
    "def fun():\n",
    "    global a  #global指示fun函数中的a来自全局作用域\n",
    "    a=200\n",
    "    print(a)\n",
    "    \n",
    "if __name__ == '__main__':#主脚本\n",
    "    a=100\n",
    "    fun()\n",
    "    print(a)\n",
    "    "
   ]
  },
  {
   "cell_type": "code",
   "execution_count": null,
   "metadata": {},
   "outputs": [],
   "source": []
  }
 ],
 "metadata": {
  "kernelspec": {
   "display_name": "Python 3",
   "language": "python",
   "name": "python3"
  },
  "language_info": {
   "codemirror_mode": {
    "name": "ipython",
    "version": 3
   },
   "file_extension": ".py",
   "mimetype": "text/x-python",
   "name": "python",
   "nbconvert_exporter": "python",
   "pygments_lexer": "ipython3",
   "version": "3.6.4"
  }
 },
 "nbformat": 4,
 "nbformat_minor": 2
}
