{
 "cells": [
  {
   "cell_type": "markdown",
   "metadata": {},
   "source": [
    "读写文本文件\n",
    "----------\n",
    "1.读写文本文件时，需要在使用open函数时指定好带路径的文件名（可以使用相对路径和绝对路径）并将文件模式设置为'r'（如果不指定，默认值也是'r'）\n",
    "2.然后通过encoding参数指定编码（如果不指定，默认值是None，那么在读取文件时使用的是操作系统默认的编码），如果不能保证保存文件时使用的编码方式与encoding参数指定的编码方式是一致的，那么就可能因无法解码导致读取失败。"
   ]
  },
  {
   "cell_type": "code",
   "execution_count": null,
   "metadata": {},
   "outputs": [],
   "source": [
    "\"\"\"读取一个纯文本文件\"\"\"\n",
    "def main():\n",
    "    f = open('致橡树.txt', 'r', encoding=' ')  \n",
    "    print(f.read())\n",
    "    f.close()\n",
    "    \n",
    "if __name__ == '__main__':\n",
    "    main()"
   ]
  },
  {
   "cell_type": "markdown",
   "metadata": {},
   "source": [
    "异常处理\n",
    "---------\n",
    "1.try语句"
   ]
  },
  {
   "cell_type": "code",
   "execution_count": 2,
   "metadata": {},
   "outputs": [
    {
     "name": "stdout",
     "output_type": "stream",
     "text": [
      "try...\n",
      "except: division by zero\n",
      "finally...\n",
      "end\n"
     ]
    }
   ],
   "source": [
    "try:\n",
    "    print('try...')\n",
    "    r = 10/0\n",
    "    print('result',r)\n",
    "except ZeroDivisionError as e:\n",
    "    print('except:',e)\n",
    "finally:\n",
    "    print('finally...')\n",
    "print('end')\n",
    "#当我们认为某些代码可能会出错时，就可以用try来运行这段代码\n",
    "#如果执行错误，则后续代码不会继续执行，而是直接跳转至错误代码处理\n",
    "#即except语句块，执行完except后，如果有finally语句块，则执行finally语句块\n",
    "#然后，程序继续按照流程往下走"
   ]
  },
  {
   "cell_type": "code",
   "execution_count": 3,
   "metadata": {},
   "outputs": [
    {
     "name": "stdout",
     "output_type": "stream",
     "text": [
      "try...\n",
      "result 5.0\n",
      "finally...\n",
      "end\n"
     ]
    }
   ],
   "source": [
    "#把除数0改成2\n",
    "try:\n",
    "    print('try...')\n",
    "    r = 10/2\n",
    "    print('result',r)\n",
    "except ZeroDivisionError as e:\n",
    "    print('except:',e)\n",
    "finally:\n",
    "    print('finally...')\n",
    "print('end')\n",
    "#由于没有发生错误，所以except语句块不会被执行，\n",
    "#但是finally如果有，则一定会被执行（可以没有finally语句）"
   ]
  },
  {
   "cell_type": "code",
   "execution_count": 4,
   "metadata": {},
   "outputs": [
    {
     "name": "stdout",
     "output_type": "stream",
     "text": [
      "try\n",
      "result: 5.0\n",
      "no error\n",
      "finally\n",
      "end\n"
     ]
    }
   ],
   "source": [
    "\"\"\"\n",
    "如果没有错误发生时，可以在except语句块后面加一个else，会自动执行else语句\n",
    "\"\"\"\n",
    "try:\n",
    "    print('try')\n",
    "    r= 10/int('2')\n",
    "    print('result:',r)\n",
    "except ValueError as e:\n",
    "    print('ValueError:',e)\n",
    "except ZeroDivisionError as e:\n",
    "    print('ZeroDivisionError:',e)\n",
    "else:\n",
    "    print('no error')\n",
    "finally:\n",
    "    print('finally')\n",
    "print('end')"
   ]
  },
  {
   "cell_type": "code",
   "execution_count": 16,
   "metadata": {},
   "outputs": [
    {
     "name": "stdout",
     "output_type": "stream",
     "text": [
      "无法打开指定文件\n"
     ]
    }
   ],
   "source": [
    "\"\"\"\n",
    "对于上面的代码，如果open函数指定的文件并不存在或者无法打开，那么将引发异常状况导致程序崩溃。\n",
    "为了代码有一定的健壮性和容错性，我们可以使用python的异常机制对可能在运行时发生状况的代码进行适当的处理。\n",
    "\"\"\"\n",
    "def main():\n",
    "    f = None\n",
    "    try:\n",
    "        f=open('致橡树.txt','r',encoding='')\n",
    "        print(f.read())\n",
    "    except FileNotFoundError:\n",
    "        print('无法打开指定文件')\n",
    "    except LookupError:\n",
    "        print('指定了未知的编码')\n",
    "    except UnicodeDecodeError:\n",
    "        print('读取文件时解码错误')\n",
    "    finally:\n",
    "        if f:\n",
    "            f.close()\n",
    "            \n",
    "if __name__ == '__main__':\n",
    "    main()"
   ]
  },
  {
   "cell_type": "markdown",
   "metadata": {},
   "source": [
    "    根据上面的代码，得出在python中，我们可以将那些在运行时可能会出现状况的代码放在try代码块中，在try代码块的后面可以跟上一个或多个except来捕获可能出现的异常状况。\n",
    "    最后使用使用finally代码块来关闭打开的文件，释放掉程序中获取的外部资源，由于finally块的代码不论程序正常还是异常都会执行到（甚至是调用了sys模块的exit函数推出python环境，finally块都会被执行，因为exit函数实质上是引发了SystemExit异常），因为我们通常把finally块称为“总是执行代码块”，它最适合用来释放外部资源的操作。\n",
    "    "
   ]
  },
  {
   "cell_type": "code",
   "execution_count": 18,
   "metadata": {},
   "outputs": [
    {
     "name": "stdout",
     "output_type": "stream",
     "text": [
      "无法打开指定文件\n"
     ]
    }
   ],
   "source": [
    "\"\"\"\n",
    "如果不愿意在finally代码块中关闭文件对象释放资源，也可以使用上下文语法，\n",
    "通过with关键字指定文件对象的上下文环境并在上下文环境时自动释放文件资源。\n",
    "\"\"\"\n",
    "def main():\n",
    "    try:\n",
    "        with open('致橡树.txt','r',encoding='') as f:\n",
    "            print(f.read())\n",
    "    except FileNotFoundError:\n",
    "        print('无法打开指定文件')\n",
    "    except LookupError:\n",
    "        print('指定了未知的编码')\n",
    "    except UnicodeDecodeError:\n",
    "        print('读取文件时解码错误')\n",
    "main()\n",
    "        \n",
    "        "
   ]
  },
  {
   "cell_type": "markdown",
   "metadata": {},
   "source": [
    "除了使用文件对象的read方法读取文件之外，还可以使用for-in循环逐行读取或者用readlines方法将文件按行读取到一个列表容器中，代码如下："
   ]
  },
  {
   "cell_type": "code",
   "execution_count": null,
   "metadata": {},
   "outputs": [],
   "source": [
    "import time\n",
    "\n",
    "def main():\n",
    "    #一次性读取整个文件内容\n",
    "    with open('致橡树.txt','r',encoding='') as f:\n",
    "        print(f.read())\n",
    "    \n",
    "    #通过for-in循环逐行读取\n",
    "    with open('致橡树.txt',mode='r') as f:\n",
    "        for line in f:\n",
    "            print(line,end='')\n",
    "            time.sleep(0.5)\n",
    "    print()\n",
    "    \n",
    "    #读取文件按行读取到列表中\n",
    "    with open('致橡树.txt') as f:\n",
    "        lines= f.readlines()\n",
    "    print(lines)\n",
    "    \n",
    "main()"
   ]
  },
  {
   "cell_type": "markdown",
   "metadata": {},
   "source": [
    "python的错误其实也是class，所有的错误类型都是继承自BaseException，所以在使用except时需要注意的是，它不但捕获该类型的错误，还把其子类的错误也都一并捕获，如下面代码："
   ]
  },
  {
   "cell_type": "code",
   "execution_count": null,
   "metadata": {},
   "outputs": [],
   "source": [
    "try:\n",
    "    foo()\n",
    "except ValueError as e:\n",
    "    print('ValueError')\n",
    "except UnicodeError as e:\n",
    "    print('UnicodeError')\n",
    "    \n",
    "#第二个except永远也捕获不到UnicodeError，因为UnicodeError是ValueError的子类，\n",
    "#如果有，也被第一个except给捕获了"
   ]
  },
  {
   "cell_type": "code",
   "execution_count": 21,
   "metadata": {},
   "outputs": [
    {
     "name": "stdout",
     "output_type": "stream",
     "text": [
      "Error: division by zero\n",
      "finally...\n"
     ]
    }
   ],
   "source": [
    "\"\"\"\n",
    "使用try...except捕获错误还有一个巨大的好处，就是可以跨越多层调用，\n",
    "比如函数main()调用foo(),foo()调用bar(),结果bar()出错了，\n",
    "这时，只要main()捕获到了，就可以处理\n",
    "\n",
    "\"\"\"\n",
    "def foo(s):\n",
    "    return 10/int(s)\n",
    "def bar(s):\n",
    "    return foo(s)*2\n",
    "def main():\n",
    "    try:\n",
    "        bar('0')\n",
    "    except Exception as e:\n",
    "        print('Error:',e)\n",
    "    finally:\n",
    "        print('finally...')\n",
    "main()\n",
    "        \n",
    "        \n",
    "        \n",
    "        \n",
    "        \n",
    "        "
   ]
  },
  {
   "cell_type": "markdown",
   "metadata": {},
   "source": [
    "2.调用栈\n",
    "-------\n",
    "如果错误没有被捕获，它就会一直往上抛，最后被python解释器捕获，打印一个错误信息，然后程序退出"
   ]
  },
  {
   "cell_type": "code",
   "execution_count": 22,
   "metadata": {},
   "outputs": [
    {
     "ename": "ZeroDivisionError",
     "evalue": "division by zero",
     "output_type": "error",
     "traceback": [
      "\u001b[0;31m---------------------------------------------------------------------------\u001b[0m",
      "\u001b[0;31mZeroDivisionError\u001b[0m                         Traceback (most recent call last)",
      "\u001b[0;32m<ipython-input-22-aecb17c48139>\u001b[0m in \u001b[0;36m<module>\u001b[0;34m\u001b[0m\n\u001b[1;32m      6\u001b[0m \u001b[0;32mdef\u001b[0m \u001b[0mmain\u001b[0m\u001b[0;34m(\u001b[0m\u001b[0;34m)\u001b[0m\u001b[0;34m:\u001b[0m\u001b[0;34m\u001b[0m\u001b[0;34m\u001b[0m\u001b[0m\n\u001b[1;32m      7\u001b[0m     \u001b[0mbar\u001b[0m\u001b[0;34m(\u001b[0m\u001b[0;34m'0'\u001b[0m\u001b[0;34m)\u001b[0m\u001b[0;34m\u001b[0m\u001b[0;34m\u001b[0m\u001b[0m\n\u001b[0;32m----> 8\u001b[0;31m \u001b[0mmain\u001b[0m\u001b[0;34m(\u001b[0m\u001b[0;34m)\u001b[0m\u001b[0;34m\u001b[0m\u001b[0;34m\u001b[0m\u001b[0m\n\u001b[0m",
      "\u001b[0;32m<ipython-input-22-aecb17c48139>\u001b[0m in \u001b[0;36mmain\u001b[0;34m()\u001b[0m\n\u001b[1;32m      5\u001b[0m     \u001b[0;32mreturn\u001b[0m \u001b[0mfoo\u001b[0m\u001b[0;34m(\u001b[0m\u001b[0ms\u001b[0m\u001b[0;34m)\u001b[0m\u001b[0;34m*\u001b[0m\u001b[0;36m2\u001b[0m\u001b[0;34m\u001b[0m\u001b[0;34m\u001b[0m\u001b[0m\n\u001b[1;32m      6\u001b[0m \u001b[0;32mdef\u001b[0m \u001b[0mmain\u001b[0m\u001b[0;34m(\u001b[0m\u001b[0;34m)\u001b[0m\u001b[0;34m:\u001b[0m\u001b[0;34m\u001b[0m\u001b[0;34m\u001b[0m\u001b[0m\n\u001b[0;32m----> 7\u001b[0;31m     \u001b[0mbar\u001b[0m\u001b[0;34m(\u001b[0m\u001b[0;34m'0'\u001b[0m\u001b[0;34m)\u001b[0m\u001b[0;34m\u001b[0m\u001b[0;34m\u001b[0m\u001b[0m\n\u001b[0m\u001b[1;32m      8\u001b[0m \u001b[0mmain\u001b[0m\u001b[0;34m(\u001b[0m\u001b[0;34m)\u001b[0m\u001b[0;34m\u001b[0m\u001b[0;34m\u001b[0m\u001b[0m\n",
      "\u001b[0;32m<ipython-input-22-aecb17c48139>\u001b[0m in \u001b[0;36mbar\u001b[0;34m(s)\u001b[0m\n\u001b[1;32m      3\u001b[0m     \u001b[0;32mreturn\u001b[0m \u001b[0;36m10\u001b[0m\u001b[0;34m/\u001b[0m\u001b[0mint\u001b[0m\u001b[0;34m(\u001b[0m\u001b[0ms\u001b[0m\u001b[0;34m)\u001b[0m\u001b[0;34m\u001b[0m\u001b[0;34m\u001b[0m\u001b[0m\n\u001b[1;32m      4\u001b[0m \u001b[0;32mdef\u001b[0m \u001b[0mbar\u001b[0m\u001b[0;34m(\u001b[0m\u001b[0ms\u001b[0m\u001b[0;34m)\u001b[0m\u001b[0;34m:\u001b[0m\u001b[0;34m\u001b[0m\u001b[0;34m\u001b[0m\u001b[0m\n\u001b[0;32m----> 5\u001b[0;31m     \u001b[0;32mreturn\u001b[0m \u001b[0mfoo\u001b[0m\u001b[0;34m(\u001b[0m\u001b[0ms\u001b[0m\u001b[0;34m)\u001b[0m\u001b[0;34m*\u001b[0m\u001b[0;36m2\u001b[0m\u001b[0;34m\u001b[0m\u001b[0;34m\u001b[0m\u001b[0m\n\u001b[0m\u001b[1;32m      6\u001b[0m \u001b[0;32mdef\u001b[0m \u001b[0mmain\u001b[0m\u001b[0;34m(\u001b[0m\u001b[0;34m)\u001b[0m\u001b[0;34m:\u001b[0m\u001b[0;34m\u001b[0m\u001b[0;34m\u001b[0m\u001b[0m\n\u001b[1;32m      7\u001b[0m     \u001b[0mbar\u001b[0m\u001b[0;34m(\u001b[0m\u001b[0;34m'0'\u001b[0m\u001b[0;34m)\u001b[0m\u001b[0;34m\u001b[0m\u001b[0;34m\u001b[0m\u001b[0m\n",
      "\u001b[0;32m<ipython-input-22-aecb17c48139>\u001b[0m in \u001b[0;36mfoo\u001b[0;34m(s)\u001b[0m\n\u001b[1;32m      1\u001b[0m \u001b[0;31m#err.py:\u001b[0m\u001b[0;34m\u001b[0m\u001b[0;34m\u001b[0m\u001b[0;34m\u001b[0m\u001b[0m\n\u001b[1;32m      2\u001b[0m \u001b[0;32mdef\u001b[0m \u001b[0mfoo\u001b[0m\u001b[0;34m(\u001b[0m\u001b[0ms\u001b[0m\u001b[0;34m)\u001b[0m\u001b[0;34m:\u001b[0m\u001b[0;34m\u001b[0m\u001b[0;34m\u001b[0m\u001b[0m\n\u001b[0;32m----> 3\u001b[0;31m     \u001b[0;32mreturn\u001b[0m \u001b[0;36m10\u001b[0m\u001b[0;34m/\u001b[0m\u001b[0mint\u001b[0m\u001b[0;34m(\u001b[0m\u001b[0ms\u001b[0m\u001b[0;34m)\u001b[0m\u001b[0;34m\u001b[0m\u001b[0;34m\u001b[0m\u001b[0m\n\u001b[0m\u001b[1;32m      4\u001b[0m \u001b[0;32mdef\u001b[0m \u001b[0mbar\u001b[0m\u001b[0;34m(\u001b[0m\u001b[0ms\u001b[0m\u001b[0;34m)\u001b[0m\u001b[0;34m:\u001b[0m\u001b[0;34m\u001b[0m\u001b[0;34m\u001b[0m\u001b[0m\n\u001b[1;32m      5\u001b[0m     \u001b[0;32mreturn\u001b[0m \u001b[0mfoo\u001b[0m\u001b[0;34m(\u001b[0m\u001b[0ms\u001b[0m\u001b[0;34m)\u001b[0m\u001b[0;34m*\u001b[0m\u001b[0;36m2\u001b[0m\u001b[0;34m\u001b[0m\u001b[0;34m\u001b[0m\u001b[0m\n",
      "\u001b[0;31mZeroDivisionError\u001b[0m: division by zero"
     ]
    }
   ],
   "source": [
    "#err.py:\n",
    "def foo(s):\n",
    "    return 10/int(s)\n",
    "def bar(s):\n",
    "    return foo(s)*2\n",
    "def main():\n",
    "    bar('0')\n",
    "main()"
   ]
  },
  {
   "cell_type": "markdown",
   "metadata": {},
   "source": [
    "3.记录错误\n",
    "---------\n",
    "如果不捕获错误，自然可以让python解释器来打印出错误堆栈，但程序也被结束了。既然我们能捕获错误，就可以把错误栈打印出来，然后分析错误原因，同时，让程序继续执行下去。\n",
    "python内置的logging模块可以非常容易的记录错误信息\n",
    "------"
   ]
  },
  {
   "cell_type": "code",
   "execution_count": 23,
   "metadata": {},
   "outputs": [
    {
     "name": "stderr",
     "output_type": "stream",
     "text": [
      "ERROR:root:division by zero\n",
      "Traceback (most recent call last):\n",
      "  File \"<ipython-input-23-9dfca931e0cf>\", line 9, in main\n",
      "    bar('0')\n",
      "  File \"<ipython-input-23-9dfca931e0cf>\", line 6, in bar\n",
      "    return foo(s)*2\n",
      "  File \"<ipython-input-23-9dfca931e0cf>\", line 4, in foo\n",
      "    return 10/int(s)\n",
      "ZeroDivisionError: division by zero\n"
     ]
    },
    {
     "name": "stdout",
     "output_type": "stream",
     "text": [
      "end\n"
     ]
    }
   ],
   "source": [
    "import logging\n",
    "\n",
    "def foo(s):\n",
    "    return 10/int(s)\n",
    "def bar(s):\n",
    "    return foo(s)*2\n",
    "def main():\n",
    "    try:\n",
    "        bar('0')\n",
    "    except Exception as e:\n",
    "        logging.exception(e)\n",
    "        \n",
    "main()\n",
    "print('end')"
   ]
  },
  {
   "cell_type": "markdown",
   "metadata": {},
   "source": [
    "4.抛出错误\n",
    "--------\n",
    "因为错误是class，捕获一个错误就是捕获到该class的一个实例。因此，错误并不是凭空产生的，而是有一创建并抛出的。python的内置函数会抛出很多类型的错误，我们自己编写的函数也可以抛出错误。"
   ]
  },
  {
   "cell_type": "code",
   "execution_count": 29,
   "metadata": {},
   "outputs": [
    {
     "ename": "FooError",
     "evalue": "invalid value:0",
     "output_type": "error",
     "traceback": [
      "\u001b[0;31m---------------------------------------------------------------------------\u001b[0m",
      "\u001b[0;31mFooError\u001b[0m                                  Traceback (most recent call last)",
      "\u001b[0;32m<ipython-input-29-fb1c9f61924a>\u001b[0m in \u001b[0;36m<module>\u001b[0;34m\u001b[0m\n\u001b[1;32m     13\u001b[0m     \u001b[0;32mreturn\u001b[0m \u001b[0;36m10\u001b[0m\u001b[0;34m/\u001b[0m\u001b[0mn\u001b[0m\u001b[0;34m\u001b[0m\u001b[0;34m\u001b[0m\u001b[0m\n\u001b[1;32m     14\u001b[0m \u001b[0;34m\u001b[0m\u001b[0m\n\u001b[0;32m---> 15\u001b[0;31m \u001b[0mfoo\u001b[0m\u001b[0;34m(\u001b[0m\u001b[0;34m'0'\u001b[0m\u001b[0;34m)\u001b[0m\u001b[0;34m\u001b[0m\u001b[0;34m\u001b[0m\u001b[0m\n\u001b[0m",
      "\u001b[0;32m<ipython-input-29-fb1c9f61924a>\u001b[0m in \u001b[0;36mfoo\u001b[0;34m(s)\u001b[0m\n\u001b[1;32m     10\u001b[0m     \u001b[0mn\u001b[0m\u001b[0;34m=\u001b[0m\u001b[0mint\u001b[0m\u001b[0;34m(\u001b[0m\u001b[0ms\u001b[0m\u001b[0;34m)\u001b[0m\u001b[0;34m\u001b[0m\u001b[0;34m\u001b[0m\u001b[0m\n\u001b[1;32m     11\u001b[0m     \u001b[0;32mif\u001b[0m \u001b[0mn\u001b[0m\u001b[0;34m==\u001b[0m\u001b[0;36m0\u001b[0m\u001b[0;34m:\u001b[0m\u001b[0;34m\u001b[0m\u001b[0;34m\u001b[0m\u001b[0m\n\u001b[0;32m---> 12\u001b[0;31m         \u001b[0;32mraise\u001b[0m \u001b[0mFooError\u001b[0m\u001b[0;34m(\u001b[0m\u001b[0;34m'invalid value:%s'\u001b[0m\u001b[0;34m%\u001b[0m\u001b[0ms\u001b[0m\u001b[0;34m)\u001b[0m\u001b[0;34m\u001b[0m\u001b[0;34m\u001b[0m\u001b[0m\n\u001b[0m\u001b[1;32m     13\u001b[0m     \u001b[0;32mreturn\u001b[0m \u001b[0;36m10\u001b[0m\u001b[0;34m/\u001b[0m\u001b[0mn\u001b[0m\u001b[0;34m\u001b[0m\u001b[0;34m\u001b[0m\u001b[0m\n\u001b[1;32m     14\u001b[0m \u001b[0;34m\u001b[0m\u001b[0m\n",
      "\u001b[0;31mFooError\u001b[0m: invalid value:0"
     ]
    }
   ],
   "source": [
    "\"\"\"\n",
    "如果要抛出错误，首先根据需要，可以定义一个错误的class,\n",
    "选择好继承关系，然后，用raise语句抛出一个错误的实例\n",
    "\n",
    "\"\"\"\n",
    "class FooError(ValueError):\n",
    "    pass\n",
    "\n",
    "def foo(s):\n",
    "    n=int(s)\n",
    "    if n==0:\n",
    "        raise FooError('invalid value:%s'%s)\n",
    "    return 10/n\n",
    "\n",
    "foo('0')"
   ]
  },
  {
   "cell_type": "markdown",
   "metadata": {},
   "source": [
    "5.多次raise异常\n",
    "--------"
   ]
  },
  {
   "cell_type": "code",
   "execution_count": 30,
   "metadata": {},
   "outputs": [
    {
     "name": "stdout",
     "output_type": "stream",
     "text": [
      "ValueError\n"
     ]
    },
    {
     "ename": "ValueError",
     "evalue": "invalid value:0",
     "output_type": "error",
     "traceback": [
      "\u001b[0;31m---------------------------------------------------------------------------\u001b[0m",
      "\u001b[0;31mValueError\u001b[0m                                Traceback (most recent call last)",
      "\u001b[0;32m<ipython-input-30-10809c928f55>\u001b[0m in \u001b[0;36m<module>\u001b[0;34m\u001b[0m\n\u001b[1;32m     12\u001b[0m         \u001b[0;32mraise\u001b[0m\u001b[0;34m\u001b[0m\u001b[0;34m\u001b[0m\u001b[0m\n\u001b[1;32m     13\u001b[0m \u001b[0;34m\u001b[0m\u001b[0m\n\u001b[0;32m---> 14\u001b[0;31m \u001b[0mbar\u001b[0m\u001b[0;34m(\u001b[0m\u001b[0;34m)\u001b[0m\u001b[0;34m\u001b[0m\u001b[0;34m\u001b[0m\u001b[0m\n\u001b[0m\u001b[1;32m     15\u001b[0m \u001b[0;34m\u001b[0m\u001b[0m\n\u001b[1;32m     16\u001b[0m \u001b[0;34m\u001b[0m\u001b[0m\n",
      "\u001b[0;32m<ipython-input-30-10809c928f55>\u001b[0m in \u001b[0;36mbar\u001b[0;34m()\u001b[0m\n\u001b[1;32m      7\u001b[0m \u001b[0;32mdef\u001b[0m \u001b[0mbar\u001b[0m\u001b[0;34m(\u001b[0m\u001b[0;34m)\u001b[0m\u001b[0;34m:\u001b[0m\u001b[0;34m\u001b[0m\u001b[0;34m\u001b[0m\u001b[0m\n\u001b[1;32m      8\u001b[0m     \u001b[0;32mtry\u001b[0m\u001b[0;34m:\u001b[0m\u001b[0;34m\u001b[0m\u001b[0;34m\u001b[0m\u001b[0m\n\u001b[0;32m----> 9\u001b[0;31m         \u001b[0mfoo\u001b[0m\u001b[0;34m(\u001b[0m\u001b[0;34m'0'\u001b[0m\u001b[0;34m)\u001b[0m\u001b[0;34m\u001b[0m\u001b[0;34m\u001b[0m\u001b[0m\n\u001b[0m\u001b[1;32m     10\u001b[0m     \u001b[0;32mexcept\u001b[0m \u001b[0mValueError\u001b[0m \u001b[0;32mas\u001b[0m \u001b[0me\u001b[0m\u001b[0;34m:\u001b[0m\u001b[0;34m\u001b[0m\u001b[0;34m\u001b[0m\u001b[0m\n\u001b[1;32m     11\u001b[0m         \u001b[0mprint\u001b[0m\u001b[0;34m(\u001b[0m\u001b[0;34m'ValueError'\u001b[0m\u001b[0;34m)\u001b[0m\u001b[0;34m\u001b[0m\u001b[0;34m\u001b[0m\u001b[0m\n",
      "\u001b[0;32m<ipython-input-30-10809c928f55>\u001b[0m in \u001b[0;36mfoo\u001b[0;34m(s)\u001b[0m\n\u001b[1;32m      2\u001b[0m     \u001b[0mn\u001b[0m \u001b[0;34m=\u001b[0m \u001b[0mint\u001b[0m\u001b[0;34m(\u001b[0m\u001b[0ms\u001b[0m\u001b[0;34m)\u001b[0m\u001b[0;34m\u001b[0m\u001b[0;34m\u001b[0m\u001b[0m\n\u001b[1;32m      3\u001b[0m     \u001b[0;32mif\u001b[0m \u001b[0mn\u001b[0m \u001b[0;34m==\u001b[0m \u001b[0;36m0\u001b[0m\u001b[0;34m:\u001b[0m\u001b[0;34m\u001b[0m\u001b[0;34m\u001b[0m\u001b[0m\n\u001b[0;32m----> 4\u001b[0;31m         \u001b[0;32mraise\u001b[0m \u001b[0mValueError\u001b[0m\u001b[0;34m(\u001b[0m\u001b[0;34m'invalid value:%s'\u001b[0m\u001b[0;34m%\u001b[0m\u001b[0ms\u001b[0m\u001b[0;34m)\u001b[0m\u001b[0;34m\u001b[0m\u001b[0;34m\u001b[0m\u001b[0m\n\u001b[0m\u001b[1;32m      5\u001b[0m     \u001b[0;32mreturn\u001b[0m \u001b[0;36m10\u001b[0m\u001b[0;34m/\u001b[0m\u001b[0mn\u001b[0m\u001b[0;34m\u001b[0m\u001b[0;34m\u001b[0m\u001b[0m\n\u001b[1;32m      6\u001b[0m \u001b[0;34m\u001b[0m\u001b[0m\n",
      "\u001b[0;31mValueError\u001b[0m: invalid value:0"
     ]
    }
   ],
   "source": [
    "def foo(s):\n",
    "    n = int(s)\n",
    "    if n == 0:\n",
    "        raise ValueError('invalid value:%s'%s)\n",
    "    return 10/n\n",
    "\n",
    "def bar():\n",
    "    try:\n",
    "        foo('0')\n",
    "    except ValueError as e:\n",
    "        print('ValueError')\n",
    "        raise\n",
    "        \n",
    "bar()\n",
    "    \n",
    "    \n",
    "    "
   ]
  },
  {
   "cell_type": "markdown",
   "metadata": {},
   "source": [
    "    在上面的bar()函数中，已经捕获了错误，但是，打印一个ValueError后，又把错误通过raise语句抛出去了。\n",
    "    捕获错误目的只是记录一下，便于后续追踪。但是，由于当前函数不知道应该怎么处理该错误，所以，最恰当的方式是继续往上抛，让顶层调用者去处理。好比一个员工处理不了一个问题时，就把问题抛给老板，如果老板也处理不了，就一直往上抛，最后抛给CEO去处理。"
   ]
  },
  {
   "cell_type": "code",
   "execution_count": 31,
   "metadata": {},
   "outputs": [
    {
     "ename": "ValueError",
     "evalue": "input error",
     "output_type": "error",
     "traceback": [
      "\u001b[0;31m---------------------------------------------------------------------------\u001b[0m",
      "\u001b[0;31mZeroDivisionError\u001b[0m                         Traceback (most recent call last)",
      "\u001b[0;32m<ipython-input-31-c55366352492>\u001b[0m in \u001b[0;36m<module>\u001b[0;34m\u001b[0m\n\u001b[1;32m      6\u001b[0m \u001b[0;32mtry\u001b[0m\u001b[0;34m:\u001b[0m\u001b[0;34m\u001b[0m\u001b[0;34m\u001b[0m\u001b[0m\n\u001b[0;32m----> 7\u001b[0;31m     \u001b[0;36m10\u001b[0m\u001b[0;34m/\u001b[0m\u001b[0;36m0\u001b[0m\u001b[0;34m\u001b[0m\u001b[0;34m\u001b[0m\u001b[0m\n\u001b[0m\u001b[1;32m      8\u001b[0m \u001b[0;32mexcept\u001b[0m \u001b[0mZeroDivisionError\u001b[0m\u001b[0;34m:\u001b[0m\u001b[0;34m\u001b[0m\u001b[0;34m\u001b[0m\u001b[0m\n",
      "\u001b[0;31mZeroDivisionError\u001b[0m: division by zero",
      "\nDuring handling of the above exception, another exception occurred:\n",
      "\u001b[0;31mValueError\u001b[0m                                Traceback (most recent call last)",
      "\u001b[0;32m<ipython-input-31-c55366352492>\u001b[0m in \u001b[0;36m<module>\u001b[0;34m\u001b[0m\n\u001b[1;32m      7\u001b[0m     \u001b[0;36m10\u001b[0m\u001b[0;34m/\u001b[0m\u001b[0;36m0\u001b[0m\u001b[0;34m\u001b[0m\u001b[0;34m\u001b[0m\u001b[0m\n\u001b[1;32m      8\u001b[0m \u001b[0;32mexcept\u001b[0m \u001b[0mZeroDivisionError\u001b[0m\u001b[0;34m:\u001b[0m\u001b[0;34m\u001b[0m\u001b[0;34m\u001b[0m\u001b[0m\n\u001b[0;32m----> 9\u001b[0;31m     \u001b[0;32mraise\u001b[0m \u001b[0mValueError\u001b[0m\u001b[0;34m(\u001b[0m\u001b[0;34m'input error'\u001b[0m\u001b[0;34m)\u001b[0m\u001b[0;34m\u001b[0m\u001b[0;34m\u001b[0m\u001b[0m\n\u001b[0m",
      "\u001b[0;31mValueError\u001b[0m: input error"
     ]
    }
   ],
   "source": [
    "\"\"\"\n",
    "raise语句如果不带参数，就会把当前错误原样抛出。\n",
    "此外，在except中raise一个Error，还可以把一种类型的错误转化成另一种类新：\n",
    "只要是合理的转换逻辑就可以，但是，决不应该把一个IOError转换成毫不相干的ValueError\n",
    "\"\"\"\n",
    "try:\n",
    "    10/0\n",
    "except ZeroDivisionError:\n",
    "    raise ValueError('input error')"
   ]
  },
  {
   "cell_type": "markdown",
   "metadata": {},
   "source": [
    "要将文本信息写入文件，在使用open函数时指定好文件名并将文件模式设置为'w'即可。注意如果需要对文件内容进行追加式写入，应该将模式设置为'a'。如果要写入的文件不存在会自动创建文件而不是引发异常。"
   ]
  }
 ],
 "metadata": {
  "kernelspec": {
   "display_name": "Python 3",
   "language": "python",
   "name": "python3"
  },
  "language_info": {
   "codemirror_mode": {
    "name": "ipython",
    "version": 3
   },
   "file_extension": ".py",
   "mimetype": "text/x-python",
   "name": "python",
   "nbconvert_exporter": "python",
   "pygments_lexer": "ipython3",
   "version": "3.7.3"
  }
 },
 "nbformat": 4,
 "nbformat_minor": 2
}
