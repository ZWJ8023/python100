{
 "cells": [
  {
   "cell_type": "markdown",
   "metadata": {},
   "source": [
    "字符匹配\n",
    "----\n",
    "    大多数字母和字符会匹配它们自身。例如：正则表达式Fanfan将完全匹配字符串“Fanfan”（你可以启用不区分大小写模式，这将使得Fanfan可以匹配“FANFAN”或“fanfan”，后续讨论这个）。\n",
    "    当然这个规则也有例外，有少数特殊的字符我们称之为元字符（metacharacter)它们并不能匹配自身，它们定义了字符类、子组匹配和模式重复次数等。\n",
    "    元字符的完整列表为：\n",
    "    .  ^  $  *  +  ?  {}  []  \\  |  ()\n"
   ]
  },
  {
   "cell_type": "markdown",
   "metadata": {},
   "source": [
    "1. “.“\n",
    "它匹配处理换行符以外的任何字符。如果设置re.DOTALL标志，将匹配包括行在内的任何字符。"
   ]
  },
  {
   "cell_type": "raw",
   "metadata": {},
   "source": [
    "2. “[]“\n",
    "   []指定一个字符类用于存放你需要的匹配的字符集合。可以单独列出需要匹配的字符，也可以通过两个字符和一个横杆 - 指定匹配的范围。例如[abc]会匹配字符a,b或c；[a-c]可以实现相同的功能。后者适用范围来表示与前者相同的字符集合。如果你想只匹配小写字母，你的RE可能写成[a-z].\n",
    "\n",
    "    需要注意的一点是：元字符在方块中触发 ”特殊功能“，在字符类中，它们只匹配自身。例如[akm$] 会匹配任何字符'a','k','m'或'$'，'$'是一个元字符，但在方括号里它不表示特殊含义，它只匹配‘$'字符本身。\n",
    "    可以匹配方括号中未列出的所有其他字符，做法是在类的开头添加一个拖字符号^,例如[^5]会匹配除了‘5’之外的任何字符。"
   ]
  },
  {
   "cell_type": "raw",
   "metadata": {},
   "source": [
    " 3.“\\\"\n",
    "    和python的字符串一样，如果在 \\ 后边紧跟一个元字符，那么元字符的“特殊功能”也不会被触发，例如，你需要匹配符号'[' 或'\\'，你可以在它们前面加上一个 \\ ,以消除它们的特殊功能：\\[,\\\\。\n",
    "    #即反斜杠后面跟元字符则消除特殊功能，在反斜杠后面跟普通字符实现特殊功能#\n",
    "    \n",
    "    反斜杠后边跟一些字符还可以表示特殊的意义，例如表示十进制数字，表示所有的字母或者表示非空白的字符集合。\n",
    "    \n",
    "    例子：\\w匹配任何单词字符。如果正则表达式以字节的形式表示，这相当于字符类[a-zA-Z0-9];如果正则表达式是一个字符串，\\w会匹配所有的Unicode数据库（unicodedata模块提供）中标记为字母的字符。你可以在编译正则表达式的时候，通过提供re.ASCII进一步限制\\w的定义。\n",
    "    #re.ASCII标志使得\\w只能匹配ASCII字符，python3是Unicode的。#\n",
    "    \n",
    "    \n",
    "    它们可以包含在一个字符中，并且一样拥有特殊含义。例如[\\s,.]是一个字符类，它将匹配任何空白字符（/s的特殊含义），','或'.'。\n",
    "    "
   ]
  },
  {
   "cell_type": "markdown",
   "metadata": {},
   "source": [
    "预定义字符集（可以写在字符集[...]中）\n",
    "----\n",
    "\\d ==> 数字：[0-9]  例子：a\\dc >>> a1c\n",
    "\\D ==> 非数字：[^\\d] 例子：a\\Dc >>> abc\n",
    "\\s ==> 空白字符：[<空白>\\t\\n\\r\\f\\v]  例子：a\\sc >>> a c\n",
    "\\S ==> 非空白字符：[^\\s] 例子：a\\Sc >>> abc\n",
    "\\w ==> 单词字符：[A-Za-z0-9] 例子：a\\wc >>> abc\n",
    "\\W ==> 非单词字符：[^\\w] 例子：a\\Wc >>>a c "
   ]
  },
  {
   "cell_type": "code",
   "execution_count": null,
   "metadata": {},
   "outputs": [],
   "source": []
  },
  {
   "cell_type": "code",
   "execution_count": null,
   "metadata": {},
   "outputs": [],
   "source": []
  },
  {
   "cell_type": "code",
   "execution_count": null,
   "metadata": {},
   "outputs": [],
   "source": []
  },
  {
   "cell_type": "code",
   "execution_count": null,
   "metadata": {},
   "outputs": [],
   "source": []
  },
  {
   "cell_type": "code",
   "execution_count": null,
   "metadata": {},
   "outputs": [],
   "source": []
  }
 ],
 "metadata": {
  "kernelspec": {
   "display_name": "Python 3",
   "language": "python",
   "name": "python3"
  },
  "language_info": {
   "codemirror_mode": {
    "name": "ipython",
    "version": 3
   },
   "file_extension": ".py",
   "mimetype": "text/x-python",
   "name": "python",
   "nbconvert_exporter": "python",
   "pygments_lexer": "ipython3",
   "version": "3.7.3"
  }
 },
 "nbformat": 4,
 "nbformat_minor": 2
}
